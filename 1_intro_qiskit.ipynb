{
  "cells": [
    {
      "cell_type": "markdown",
      "metadata": {
        "id": "N24Pg-fufQWt"
      },
      "source": [
        "**INTRODUCCION A LA PROGRAMACION CUANTICA**\n",
        "-------------------------------------------------------\n",
        "Prof: Carmen Pellicer Lostao</br>\n",
        "[Linkedin](https://www.linkedin.com/in/cpellicerlostao/)</br>\n",
        "[email](cpellicerlostao@gmail.com)"
      ]
    },
    {
      "cell_type": "markdown",
      "metadata": {
        "id": "U-ck7CTKyeZF"
      },
      "source": [
        "## Entorno de Programación\n",
        "\n",
        "En este notebook vemos como podemos instalar las librerias de qiskit en un entorno distinto de IBM Quantum."
      ]
    },
    {
      "cell_type": "code",
      "execution_count": null,
      "metadata": {
        "id": "cC06EWgK9iEl"
      },
      "outputs": [],
      "source": [
        "%pip install 'qiskit>=1'\n",
        "%pip install qiskit-ibm-runtime\n",
        "%pip install qiskit[visualization]\n",
        "%pip install pylatexenc  #sometimes requieres a retart of the env\n",
        "%pip install qiskit-aer  #AER simulator, to run circuits without runtime"
      ]
    },
    {
      "cell_type": "code",
      "execution_count": 2,
      "metadata": {
        "id": "lETpObYUCPi7"
      },
      "outputs": [],
      "source": [
        "import qiskit"
      ]
    },
    {
      "cell_type": "markdown",
      "metadata": {
        "id": "8LgPbTuNPtx4"
      },
      "source": [
        "## Covenciones y cuestiones a tener en cuenta"
      ]
    },
    {
      "cell_type": "markdown",
      "metadata": {
        "id": "zCdPaVKqPtx4"
      },
      "source": [
        "- Los Qubits siempre se inicializan en el estado |0>\n",
        "\n",
        "- Los Qubits y los bits se numeran con enteros de 0 a n-1 como es habitual en programacion\n",
        "\n",
        "- Qiskit numera los bits y los qubits de derecha a izquierda ($q_{n-1},..,q_0$), es la notacion Big-endian. En los libros de texto, la notacion de Dirac y otros entornos de computacion cuántica es al reves.\n",
        "\n",
        "- Un simulador cuántico es un ordenador clásico (CPU) que calcula cual seria el resultado de operar en una QPU ideal, teórica, sin ruidos ni imperfecciones. Los simuladores funcionan bien con un numero bajo de qubits (~30 qubits) y son una herramienta indispensable en el diseño de circuitos cuánticos.\n",
        "\n",
        "- Los angulos son positivos cuando se miden en el sentido inverso a las agujas del reloj\n",
        "\n",
        "- El eje Z se toma como la base estandar computacional y base de medida. No es un eje especial, simplemente una convención."
      ]
    },
    {
      "cell_type": "markdown",
      "metadata": {
        "id": "e-opkgrfPtx5"
      },
      "source": [
        "## Circuitos cuánticos"
      ]
    },
    {
      "cell_type": "markdown",
      "metadata": {
        "id": "3Mrxi_A-Ptx5"
      },
      "source": [
        "Comenzamos explorando algunas funcionalidades de Quiskit. Crearemos nuestro primer Circuito Cuántico."
      ]
    },
    {
      "cell_type": "markdown",
      "metadata": {
        "id": "7TQBQ4knPtx6"
      },
      "source": [
        "Utilizamos el IBM Quantum Composer para crear un circuito cuantico que cree el estado de Bell $\\frac{1}{\\sqrt(2)}(|00>+|11>)$\n",
        "\n",
        "Primero creamos dos objetos **QuantumRegister** y **ClassicalRegister** del número de qubits que necesitemos. Después creamos un objeto QuantumCircuit con los dos registros anteriores, añadimos las puertas de medida y podemos ejecutarlo en el simulador.\n",
        "\n",
        "Copiamos el codigo y vamos a ejecutarlo en Qiskit:"
      ]
    },
    {
      "cell_type": "code",
      "execution_count": 3,
      "metadata": {
        "id": "Rm4-oNrfPtx6"
      },
      "outputs": [],
      "source": [
        "from qiskit import QuantumRegister, ClassicalRegister\n",
        "\n",
        "qreg= QuantumRegister(2)        #create a quantum register with 2 qubits\n",
        "creg= ClassicalRegister(2)      #create a classical register with 2 classical bits"
      ]
    },
    {
      "cell_type": "code",
      "execution_count": 4,
      "metadata": {
        "id": "Q1bpWRz7Ptx7",
        "outputId": "f105b14d-17d6-4354-d13b-c0430166555b"
      },
      "outputs": [
        {
          "data": {
            "text/plain": [
              "<qiskit.circuit.instructionset.InstructionSet at 0x7f11407204c0>"
            ]
          },
          "execution_count": 4,
          "metadata": {},
          "output_type": "execute_result"
        }
      ],
      "source": [
        "from qiskit import QuantumCircuit\n",
        "\n",
        "circuit = QuantumCircuit(qreg,creg)  #creates a QuantumCircuit object that operates on a QuantumRegister ans a ClassicalRegister\n",
        "circuit.h(0)                         #applies Hadamard gate to qubit 0\n",
        "circuit.cx(0, 1)                     #applies a cnot gate with control qubit 0 and target qubit 1\n",
        "circuit.measure(qreg,creg)           #measure all qubits in qreg and put results in creg"
      ]
    },
    {
      "cell_type": "markdown",
      "metadata": {
        "id": "e9_i5Vk7Ptx8"
      },
      "source": [
        "Revisamos la documentacion de la clase [Cirquit](https://docs.quantum.ibm.com/api/qiskit/circuit) de qiskit y podemos dibujar el circuito:"
      ]
    },
    {
      "cell_type": "code",
      "execution_count": 5,
      "metadata": {
        "id": "dbgGJFqKPtx8",
        "outputId": "9fbfb175-ee6f-4827-b379-2c79bbcf51a9"
      },
      "outputs": [
        {
          "data": {
            "image/png": "[encoded data removed]",
            "text/plain": [
              "<Figure size 525.227x284.278 with 1 Axes>"
            ]
          },
          "execution_count": 5,
          "metadata": {},
          "output_type": "execute_result"
        }
      ],
      "source": [
        "circuit.draw('mpl',initial_state=True)"
      ]
    },
    {
      "cell_type": "markdown",
      "metadata": {
        "id": "YfHHwH2mPtx8"
      },
      "source": [
        "Opciones de formato para visualizar el circuito ('text','latex','mpl','latex','latex_source'). Ver la documentacion del metodo [.draw](https://docs.quantum.ibm.com/api/qiskit/qiskit.circuit.QuantumCircuit#draw)"
      ]
    },
    {
      "cell_type": "markdown",
      "metadata": {
        "id": "-BU9U9XKPtx8"
      },
      "source": [
        "## Simulación y Medida"
      ]
    },
    {
      "cell_type": "markdown",
      "metadata": {
        "id": "AFYzyw4oPtx9"
      },
      "source": [
        "Ahora ejecutamos el circuito en el simulador Aer y visualizamos los resultados en un histograma."
      ]
    },
    {
      "cell_type": "code",
      "execution_count": 6,
      "metadata": {
        "id": "unBNsDMvPtx9",
        "outputId": "69cf57cb-fdd9-470c-84b3-75ba3134a054"
      },
      "outputs": [
        {
          "name": "stdout",
          "output_type": "stream",
          "text": [
            "{'00': 529, '11': 495}\n"
          ]
        }
      ],
      "source": [
        "from qiskit_aer import Aer\n",
        "\n",
        "# this is the AER simulator we'll use\n",
        "backend = Aer.get_backend('aer_simulator', shots=1024)\n",
        "# we run the experiment and get the result from that experiment  -> memory=True to get results for each shot\n",
        "result = backend.run(circuit, memory=True).result()\n",
        "#in the results, we get a dictionary containing the number of times (counts)\n",
        "counts = result.get_counts()\n",
        "print(counts)"
      ]
    },
    {
      "cell_type": "markdown",
      "metadata": {
        "id": "A0dK6ZlKPtx9"
      },
      "source": [
        "Podemos utilizar simuladores de dispositivos reales que IBM ha creado a partir de la calibracion de hardware cuantico real."
      ]
    },
    {
      "cell_type": "code",
      "execution_count": 7,
      "metadata": {
        "id": "3LxyZlWbPtx9",
        "outputId": "2b326c19-4814-4ba5-b8c2-13e473772145"
      },
      "outputs": [
        {
          "name": "stdout",
          "output_type": "stream",
          "text": [
            "{'01': 36, '10': 119, '00': 485, '11': 384}\n"
          ]
        }
      ],
      "source": [
        "from qiskit_ibm_runtime.fake_provider import FakeManilaV2\n",
        "\n",
        "# Get a fake backend from the fake provider\n",
        "backend = FakeManilaV2()\n",
        "result = backend.run(circuit, memory=True).result()\n",
        "#in the results, we get a dictionary containing the number of times (counts)\n",
        "counts = result.get_counts()\n",
        "print(counts)"
      ]
    },
    {
      "cell_type": "markdown",
      "metadata": {
        "id": "DQtK0167Ptx-"
      },
      "source": [
        "## Visualizacion de resultados"
      ]
    },
    {
      "cell_type": "markdown",
      "metadata": {
        "id": "RfKsDD8ePtx-"
      },
      "source": [
        "Muestra los primeros 5 resultados de las medidas"
      ]
    },
    {
      "cell_type": "code",
      "execution_count": 8,
      "metadata": {
        "id": "lbkE2uO3Ptx-",
        "outputId": "388e80e6-0418-4a87-a69a-ccb48fec5e41"
      },
      "outputs": [
        {
          "data": {
            "text/plain": [
              "['11', '00', '00', '00', '11']"
            ]
          },
          "execution_count": 8,
          "metadata": {},
          "output_type": "execute_result"
        }
      ],
      "source": [
        "#Vemos los 5 primeros resultados de la simulacion\n",
        "data = result.get_memory()\n",
        "data[:5]"
      ]
    },
    {
      "cell_type": "code",
      "execution_count": 9,
      "metadata": {},
      "outputs": [
        {
          "name": "stdout",
          "output_type": "stream",
          "text": [
            "ALICE ------ BOB\n",
            "    1 ------ 1\n",
            "    0 ------ 0\n",
            "    0 ------ 0\n",
            "    0 ------ 0\n",
            "    1 ------ 1\n",
            "    1 ------ 0\n",
            "    1 ------ 0\n",
            "    0 ------ 0\n",
            "    1 ------ 1\n",
            "    1 ------ 1\n"
          ]
        }
      ],
      "source": [
        "#Vemos los 10 primeros resultados de la simulacion\n",
        "data = result.get_memory()\n",
        "print('ALICE ------ BOB')\n",
        "for e in data[:10]:\n",
        "   print('   ',e[0],'------',e[1]) "
      ]
    },
    {
      "cell_type": "markdown",
      "metadata": {
        "id": "zfIB0-ogPtx-"
      },
      "source": [
        "Utiliza la funcion [`plot_histogram`](https://docs.quantum.ibm.com/api/qiskit/qiskit.visualization.plot_histogram) para mostrar los resultados obtenidos en todas las medidas"
      ]
    },
    {
      "cell_type": "code",
      "execution_count": 10,
      "metadata": {
        "id": "5axO_vp7Ptx-",
        "outputId": "37645964-59bb-4d63-f062-a295f7b17a35"
      },
      "outputs": [
        {
          "data": {
            "image/png": "[encoded data removed]",
            "text/plain": [
              "<Figure size 700x500 with 1 Axes>"
            ]
          },
          "execution_count": 10,
          "metadata": {},
          "output_type": "execute_result"
        }
      ],
      "source": [
        "from qiskit.visualization import plot_histogram\n",
        "plot_histogram(counts)"
      ]
    },
    {
      "cell_type": "markdown",
      "metadata": {
        "id": "IJlxdBxwPtyA"
      },
      "source": [
        "## Ejecucion en HW real"
      ]
    },
    {
      "cell_type": "code",
      "execution_count": 11,
      "metadata": {
        "id": "YNiwQUM6PtyA",
        "outputId": "8356e618-56b5-4149-b52a-ce544ad39e38"
      },
      "outputs": [
        {
          "data": {
            "text/plain": [
              "[<IBMBackend('ibm_osaka')>,\n",
              " <IBMBackend('ibmq_qasm_simulator')>,\n",
              " <IBMBackend('simulator_extended_stabilizer')>,\n",
              " <IBMBackend('simulator_mps')>,\n",
              " <IBMBackend('simulator_statevector')>,\n",
              " <IBMBackend('simulator_stabilizer')>,\n",
              " <IBMBackend('ibm_brisbane')>,\n",
              " <IBMBackend('ibm_kyoto')>]"
            ]
          },
          "execution_count": 11,
          "metadata": {},
          "output_type": "execute_result"
        }
      ],
      "source": [
        "from qiskit_ibm_runtime import QiskitRuntimeService\n",
        "mytoken='16388b54043...aa8'\n",
        "\n",
        "service = QiskitRuntimeService(channel=\"ibm_quantum\", token=mytoken)\n",
        "service.backends()"
      ]
    },
    {
      "cell_type": "code",
      "execution_count": 12,
      "metadata": {
        "id": "mR94WY1VPtyA",
        "outputId": "3560466e-93aa-4ef0-9aad-98e4f02825e8"
      },
      "outputs": [
        {
          "name": "stdout",
          "output_type": "stream",
          "text": [
            "Name: ibm_osaka\n",
            "Version: 2\n",
            "No. of qubits: 127\n",
            "\n"
          ]
        },
        {
          "data": {
            "text/plain": [
              "{'_options': Options(shots=4000, memory=False, meas_level=<MeasLevel.CLASSIFIED: 2>, meas_return=<MeasReturnType.AVERAGE: 'avg'>, memory_slots=None, memory_slot_size=100, rep_time=None, rep_delay=None, init_qubits=True, use_measure_esp=None, noise_model=None, seed_simulator=None),\n",
              " '_provider': None,\n",
              " 'name': 'ibm_osaka',\n",
              " 'description': None,\n",
              " 'online_date': datetime.datetime(2023, 10, 9, 4, 0, tzinfo=tzutc()),\n",
              " 'backend_version': '1.0.27',\n",
              " '_coupling_map': None,\n",
              " '_instance': 'ibm-q/open/main',\n",
              " '_service': <QiskitRuntimeService>,\n",
              " '_api_client': <qiskit_ibm_runtime.api.clients.runtime.RuntimeClient at 0x7f11348dc790>,\n",
              " '_configuration': <qiskit.providers.models.backendconfiguration.PulseBackendConfiguration at 0x7f1140721300>,\n",
              " '_properties': <qiskit.providers.models.backendproperties.BackendProperties at 0x7f1165ac6bc0>,\n",
              " '_defaults': <qiskit.providers.models.pulsedefaults.PulseDefaults at 0x7f111dfcb070>,\n",
              " '_target': <qiskit.transpiler.target.Target at 0x7f111e1b4040>,\n",
              " '_max_circuits': 300,\n",
              " '_session': None}"
            ]
          },
          "execution_count": 12,
          "metadata": {},
          "output_type": "execute_result"
        }
      ],
      "source": [
        "#buscar el menos ocupado\n",
        "backend = service.least_busy(operational=True, simulator=False, min_num_qubits=127)\n",
        "print(\n",
        "    f\"Name: {backend.name}\\n\"\n",
        "    f\"Version: {backend.version}\\n\"\n",
        "    f\"No. of qubits: {backend.num_qubits}\\n\"\n",
        ")\n",
        "#ver todas sus propiedades\n",
        "backend.__dict__"
      ]
    },
    {
      "cell_type": "code",
      "execution_count": 13,
      "metadata": {
        "id": "GgYJIcylPtyB",
        "outputId": "ead1ec0e-bdec-4778-d83c-93795aaf1336"
      },
      "outputs": [
        {
          "data": {
            "image/png": "[encoded data removed]",
            "text/plain": [
              "<Figure size 454.517x284.278 with 1 Axes>"
            ]
          },
          "metadata": {},
          "output_type": "display_data"
        }
      ],
      "source": [
        "qreg_q = QuantumRegister(2, 'q')\n",
        "creg_c = ClassicalRegister(2, 'c')\n",
        "circuit = QuantumCircuit(qreg_q, creg_c)\n",
        "\n",
        "circuit.h(qreg_q[0])\n",
        "circuit.cx(qreg_q[0], qreg_q[1])\n",
        "circuit.measure(qreg_q[0], creg_c[0])\n",
        "circuit.measure(qreg_q[1], creg_c[1])\n",
        "display(circuit.draw('mpl'))\n",
        "\n"
      ]
    },
    {
      "cell_type": "markdown",
      "metadata": {
        "id": "fKiBX36QPtyB"
      },
      "source": [
        "https://docs.quantum.ibm.com/run/monitor-job"
      ]
    },
    {
      "cell_type": "code",
      "execution_count": 14,
      "metadata": {
        "id": "9KNVacRKPtyB",
        "outputId": "2dc8cae4-bb5c-401a-a309-879ff0130685"
      },
      "outputs": [
        {
          "name": "stdout",
          "output_type": "stream",
          "text": [
            "<IBMBackend('ibmq_qasm_simulator')>\n"
          ]
        }
      ],
      "source": [
        "backend=service.backend(\"ibmq_qasm_simulator\")\n",
        "print(backend)"
      ]
    },
    {
      "cell_type": "code",
      "execution_count": 15,
      "metadata": {
        "id": "WkFj9gBAPtyC"
      },
      "outputs": [
        {
          "name": "stderr",
          "output_type": "stream",
          "text": [
            "/home/codespace/.python/current/lib/python3.10/site-packages/qiskit_ibm_runtime/qiskit_runtime_service.py:879: UserWarning: Cloud simulators have been deprecated and will be removed on 15 May 2024. Use the new local testing mode in qiskit-ibm-runtime version 0.22.0 or later to meet your debugging needs.\n",
            "  warnings.warn(warning_message)\n"
          ]
        }
      ],
      "source": [
        "#from qiskit_ibm_runtime import QiskitRuntimeService, SamplerV2 as Sampler\n",
        "from qiskit_ibm_runtime import QiskitRuntimeService, Session, Options, Sampler, Estimator\n",
        "from qiskit.transpiler.preset_passmanagers import generate_preset_pass_manager\n",
        "\n",
        "pm = generate_preset_pass_manager(backend=backend, optimization_level=1)\n",
        "isa_circuit = pm.run(circuit)\n",
        "\n",
        "sampler = Sampler(backend)\n",
        "job = sampler.run([isa_circuit], shots=4096)"
      ]
    },
    {
      "cell_type": "code",
      "execution_count": 16,
      "metadata": {
        "id": "9Ao6EERmPtyJ",
        "outputId": "dd14f67f-b323-43ca-b5dd-b1f38441ce9b"
      },
      "outputs": [
        {
          "data": {
            "text/plain": [
              "'cocggticqlbvu7103sg0'"
            ]
          },
          "execution_count": 16,
          "metadata": {},
          "output_type": "execute_result"
        }
      ],
      "source": [
        "job.job_id()"
      ]
    },
    {
      "cell_type": "code",
      "execution_count": 17,
      "metadata": {
        "id": "k1zjGKsuPtyJ",
        "outputId": "cd83a6a5-8991-48e4-fccc-5f13c66efc39"
      },
      "outputs": [
        {
          "data": {
            "text/plain": [
              "<JobStatus.DONE: 'job has successfully run'>"
            ]
          },
          "execution_count": 17,
          "metadata": {},
          "output_type": "execute_result"
        }
      ],
      "source": [
        "job.status()"
      ]
    },
    {
      "cell_type": "code",
      "execution_count": 18,
      "metadata": {
        "id": "Ct5FY6rgPtyJ"
      },
      "outputs": [],
      "source": [
        "#obtener un job uno que ya se ejecuto\n",
        "#job = service.job('co9pv250cpthsc8ufh7g')   #qasm sim\n",
        "job = service.job('cr9szxfszxr00084a0v0') # osaka"
      ]
    },
    {
      "cell_type": "code",
      "execution_count": 19,
      "metadata": {
        "id": "iO7kYEnRPtyJ",
        "outputId": "203250e6-8c20-4cdf-950c-131c156fd67a"
      },
      "outputs": [
        {
          "data": {
            "text/plain": [
              "[{0: 0.487225125867032, 1: -0.002341658153894, 2: 0.001355570445461, 3: 0.513760961841402}]"
            ]
          },
          "execution_count": 19,
          "metadata": {},
          "output_type": "execute_result"
        }
      ],
      "source": [
        "result=job.result()\n",
        "result.quasi_dists"
      ]
    },
    {
      "cell_type": "code",
      "execution_count": 20,
      "metadata": {
        "id": "sCgZOQgGPtyJ",
        "outputId": "aa7c1bd3-8745-4b06-9af8-814e58b3d190"
      },
      "outputs": [
        {
          "name": "stdout",
          "output_type": "stream",
          "text": [
            " > Quasi-probability distribution: [{0: 0.487225125867032, 1: -0.002341658153894, 2: 0.001355570445461, 3: 0.513760961841402}]\n",
            " > Metadata: [{'shots': 4096, 'circuit_metadata': {}, 'readout_mitigation_overhead': 1.239833263553225, 'readout_mitigation_time': 0.10581337101757526}]\n"
          ]
        }
      ],
      "source": [
        "result=job.result()\n",
        "print(f\" > Quasi-probability distribution: {result.quasi_dists}\")\n",
        "print(f\" > Metadata: {result.metadata}\")"
      ]
    },
    {
      "cell_type": "markdown",
      "metadata": {
        "id": "_aRSCZZiPtx-"
      },
      "source": [
        "## Aplicaciones: Q-RBG de dos secuencias binarias condicionadas"
      ]
    },
    {
      "cell_type": "markdown",
      "metadata": {},
      "source": [
        "Quantum Random Bit Generators"
      ]
    },
    {
      "cell_type": "markdown",
      "metadata": {
        "id": "Sw3N2leWPtx_"
      },
      "source": [
        "### Primer generador"
      ]
    },
    {
      "cell_type": "markdown",
      "metadata": {
        "id": "X6GTAUFhPtx_"
      },
      "source": [
        "Creamos un generador de numeros aleatorios que produzca dos secuencias aleatorias examtamente iguales para dos personas Alice y Bob, con igual probabilidad de obtener 0 o 1 (al 50%)\n",
        "\n",
        "```\n",
        "ALICE -------- BOB\n",
        "0  --------  0\n",
        "0  --------  0\n",
        "1  --------  1\n",
        "1  --------  1\n",
        "0  --------  0\n",
        "1  --------  1\n",
        "1  --------  1\n",
        ".\n",
        ".\n",
        ".\n",
        "```\n",
        "\n",
        "Para ello creamos un circuito cuantico de dos qbits que produzca bits clasicos en cada medida para Alice y Bob.\n",
        "\n",
        "Ejecutamos el circuito para obtener:\n",
        "\n",
        "* los primeros 100 bits de ambas personas\n",
        "* el histograma de bits medidos en la ejecucion que demuestra que se generan 0 y 1 para Alice y Bob entrelazados y al 50%\n"
      ]
    },
    {
      "cell_type": "code",
      "execution_count": 21,
      "metadata": {
        "id": "4pBkM8LEPtx_",
        "outputId": "1fc5abae-7b6b-4aa5-d3a5-cb490b3ed21c"
      },
      "outputs": [
        {
          "data": {
            "image/png": "[encoded data removed]",
            "text/plain": [
              "<Figure size 454.517x284.278 with 1 Axes>"
            ]
          },
          "metadata": {},
          "output_type": "display_data"
        },
        {
          "name": "stdout",
          "output_type": "stream",
          "text": [
            "counts:  {'00': 505, '11': 519}\n"
          ]
        },
        {
          "data": {
            "image/png": "[encoded data removed]",
            "text/plain": [
              "<Figure size 700x500 with 1 Axes>"
            ]
          },
          "metadata": {},
          "output_type": "display_data"
        },
        {
          "name": "stdout",
          "output_type": "stream",
          "text": [
            "data (100 resultados):  ['11', '00', '00', '11', '11', '00', '11', '11', '11', '11', '11', '00', '11', '00', '11', '11', '00', '11', '00', '00', '00', '11', '00', '11', '11', '11', '00', '00', '00', '11', '00', '11', '11', '00', '00', '00', '00', '11', '11', '11', '11', '11', '00', '11', '00', '00', '11', '00', '11', '11', '00', '00', '11', '11', '00', '11', '11', '00', '00', '00', '11', '11', '00', '00', '11', '11', '00', '00', '11', '11', '11', '00', '11', '11', '11', '11', '11', '11', '11', '00', '00', '00', '00', '00', '11', '00', '11', '11', '00', '00', '00', '00', '11', '00', '00', '11', '00', '11', '11', '00']\n",
            "ALICE -------- BOB\n",
            "1  --------  1\n",
            "0  --------  0\n",
            "0  --------  0\n",
            "1  --------  1\n",
            "1  --------  1\n",
            "0  --------  0\n",
            "1  --------  1\n",
            "1  --------  1\n",
            "1  --------  1\n",
            "1  --------  1\n",
            "1  --------  1\n",
            "0  --------  0\n",
            "1  --------  1\n",
            "0  --------  0\n",
            "1  --------  1\n",
            "1  --------  1\n",
            "0  --------  0\n",
            "1  --------  1\n",
            "0  --------  0\n",
            "0  --------  0\n",
            "0  --------  0\n",
            "1  --------  1\n",
            "0  --------  0\n",
            "1  --------  1\n",
            "1  --------  1\n",
            "1  --------  1\n",
            "0  --------  0\n",
            "0  --------  0\n",
            "0  --------  0\n",
            "1  --------  1\n",
            "0  --------  0\n",
            "1  --------  1\n",
            "1  --------  1\n",
            "0  --------  0\n",
            "0  --------  0\n",
            "0  --------  0\n",
            "0  --------  0\n",
            "1  --------  1\n",
            "1  --------  1\n",
            "1  --------  1\n",
            "1  --------  1\n",
            "1  --------  1\n",
            "0  --------  0\n",
            "1  --------  1\n",
            "0  --------  0\n",
            "0  --------  0\n",
            "1  --------  1\n",
            "0  --------  0\n",
            "1  --------  1\n",
            "1  --------  1\n",
            "0  --------  0\n",
            "0  --------  0\n",
            "1  --------  1\n",
            "1  --------  1\n",
            "0  --------  0\n",
            "1  --------  1\n",
            "1  --------  1\n",
            "0  --------  0\n",
            "0  --------  0\n",
            "0  --------  0\n",
            "1  --------  1\n",
            "1  --------  1\n",
            "0  --------  0\n",
            "0  --------  0\n",
            "1  --------  1\n",
            "1  --------  1\n",
            "0  --------  0\n",
            "0  --------  0\n",
            "1  --------  1\n",
            "1  --------  1\n",
            "1  --------  1\n",
            "0  --------  0\n",
            "1  --------  1\n",
            "1  --------  1\n",
            "1  --------  1\n",
            "1  --------  1\n",
            "1  --------  1\n",
            "1  --------  1\n",
            "1  --------  1\n",
            "0  --------  0\n",
            "0  --------  0\n",
            "0  --------  0\n",
            "0  --------  0\n",
            "0  --------  0\n",
            "1  --------  1\n",
            "0  --------  0\n",
            "1  --------  1\n",
            "1  --------  1\n",
            "0  --------  0\n",
            "0  --------  0\n",
            "0  --------  0\n",
            "0  --------  0\n",
            "1  --------  1\n",
            "0  --------  0\n",
            "0  --------  0\n",
            "1  --------  1\n",
            "0  --------  0\n",
            "1  --------  1\n",
            "1  --------  1\n",
            "0  --------  0\n"
          ]
        }
      ],
      "source": [
        "qreg_q = QuantumRegister(2, 'q')\n",
        "creg_c = ClassicalRegister(2, 'c')\n",
        "circuit = QuantumCircuit(qreg_q, creg_c)\n",
        "\n",
        "circuit.h(qreg_q[0])\n",
        "circuit.cx(qreg_q[0], qreg_q[1])\n",
        "circuit.measure(qreg_q[0], creg_c[0])\n",
        "circuit.measure(qreg_q[1], creg_c[1])\n",
        "display(circuit.draw('mpl'))\n",
        "\n",
        "backend = Aer.get_backend('aer_simulator', shots=1024)\n",
        "#backend = FakeManilaV2()\n",
        "result = backend.run(circuit, memory=True).result()\n",
        "counts = result.get_counts()\n",
        "\n",
        "print('counts: ', counts)\n",
        "# visualizamos el histograma\n",
        "display(plot_histogram(counts))\n",
        "data = result.get_memory()\n",
        "print('data (100 resultados): ',data[:100])\n",
        "\n",
        "print('ALICE -------- BOB')\n",
        "for e in data[:100]:\n",
        "    print(e[0],' -------- ',e[1])"
      ]
    },
    {
      "cell_type": "markdown",
      "metadata": {
        "id": "jEbFFpZMPtx_"
      },
      "source": [
        "### Segundo generador"
      ]
    },
    {
      "cell_type": "markdown",
      "metadata": {
        "id": "Kv3mcJuQPtx_"
      },
      "source": [
        "Creamos un generador de numeros aleatorios que produzca dos secuencias aleatorias examtamente para dos personas Alice y Bob, con probabilidades diferentes y entrelazadas:\n",
        "- Alice obtine una secuencia con igual probabilidad de obtener 0 o 1 (al 50%)\n",
        "- si Alice obtiene un 0, Bob obtiene una probabilidad de 0 y 1 al 85% y 15% respectivamente.\n",
        "- si Alice ontiene un 1, Bob obtiene una probabilidad de 1 y 0 al 85% y 15% respectivamente.\n",
        "\n",
        "\n",
        "```\n",
        "ALICE -------- BOB\n",
        "0  --------  0\n",
        "0  --------  0\n",
        "1  --------  0\n",
        "1  --------  1\n",
        "1  --------  0\n",
        "0  --------  1\n",
        "1  --------  1\n",
        "1  --------  1\n",
        "1  --------  1\n",
        "0  --------  0\n",
        "1  --------  1\n",
        "0  --------  0\n",
        "1  --------  1\n",
        "1  --------  1\n",
        "1  --------  1\n",
        ".\n",
        ".\n",
        ".\n",
        "```\n",
        "\n",
        "Para ello creamos un circuito cuantico de dos qbits que produzca bits clasicos en cada medida para Alice y Bob.\n",
        "\n",
        "Ejecutamos el circuito en un simulador cuantico y obten:\n",
        "\n",
        "* los primeros 100 bits de ambas personas\n",
        "* el histograma de bits medidos en la ejecucion"
      ]
    },
    {
      "cell_type": "code",
      "execution_count": 22,
      "metadata": {
        "id": "uSlUjvOWPtx_",
        "outputId": "2486bf01-d332-424d-b781-435bd5368b74"
      },
      "outputs": [
        {
          "data": {
            "image/png": "[encoded data removed]",
            "text/plain": [
              "<Figure size 621.739x284.278 with 1 Axes>"
            ]
          },
          "metadata": {},
          "output_type": "display_data"
        },
        {
          "name": "stdout",
          "output_type": "stream",
          "text": [
            "counts:  {'01': 76, '10': 84, '00': 439, '11': 425}\n"
          ]
        },
        {
          "data": {
            "image/png": "[encoded data removed]",
            "text/plain": [
              "<Figure size 700x500 with 1 Axes>"
            ]
          },
          "metadata": {},
          "output_type": "display_data"
        },
        {
          "name": "stdout",
          "output_type": "stream",
          "text": [
            "data (100 resultados):  ['11', '00', '11', '10', '00', '00', '00', '00', '11', '01', '11', '11', '00', '11', '01', '11', '00', '01', '11', '00', '01', '00', '00', '11', '10', '00', '00', '01', '00', '00', '10', '00', '11', '00', '00', '10', '11', '11', '00', '10', '11', '00', '11', '00', '00', '00', '00', '10', '11', '00', '00', '11', '00', '10', '10', '00', '11', '00', '11', '01', '00', '11', '00', '00', '11', '11', '00', '00', '01', '00', '00', '01', '10', '10', '00', '11', '00', '00', '00', '00', '11', '01', '11', '10', '01', '00', '00', '00', '11', '11', '00', '11', '11', '00', '11', '00', '10', '00', '11', '11']\n",
            "ALICE -------- BOB\n",
            "1  --------  1\n",
            "0  --------  0\n",
            "1  --------  1\n",
            "1  --------  0\n",
            "0  --------  0\n",
            "0  --------  0\n",
            "0  --------  0\n",
            "0  --------  0\n",
            "1  --------  1\n",
            "0  --------  1\n",
            "1  --------  1\n",
            "1  --------  1\n",
            "0  --------  0\n",
            "1  --------  1\n",
            "0  --------  1\n",
            "1  --------  1\n",
            "0  --------  0\n",
            "0  --------  1\n",
            "1  --------  1\n",
            "0  --------  0\n",
            "0  --------  1\n",
            "0  --------  0\n",
            "0  --------  0\n",
            "1  --------  1\n",
            "1  --------  0\n",
            "0  --------  0\n",
            "0  --------  0\n",
            "0  --------  1\n",
            "0  --------  0\n",
            "0  --------  0\n",
            "1  --------  0\n",
            "0  --------  0\n",
            "1  --------  1\n",
            "0  --------  0\n",
            "0  --------  0\n",
            "1  --------  0\n",
            "1  --------  1\n",
            "1  --------  1\n",
            "0  --------  0\n",
            "1  --------  0\n",
            "1  --------  1\n",
            "0  --------  0\n",
            "1  --------  1\n",
            "0  --------  0\n",
            "0  --------  0\n",
            "0  --------  0\n",
            "0  --------  0\n",
            "1  --------  0\n",
            "1  --------  1\n",
            "0  --------  0\n",
            "0  --------  0\n",
            "1  --------  1\n",
            "0  --------  0\n",
            "1  --------  0\n",
            "1  --------  0\n",
            "0  --------  0\n",
            "1  --------  1\n",
            "0  --------  0\n",
            "1  --------  1\n",
            "0  --------  1\n",
            "0  --------  0\n",
            "1  --------  1\n",
            "0  --------  0\n",
            "0  --------  0\n",
            "1  --------  1\n",
            "1  --------  1\n",
            "0  --------  0\n",
            "0  --------  0\n",
            "0  --------  1\n",
            "0  --------  0\n",
            "0  --------  0\n",
            "0  --------  1\n",
            "1  --------  0\n",
            "1  --------  0\n",
            "0  --------  0\n",
            "1  --------  1\n",
            "0  --------  0\n",
            "0  --------  0\n",
            "0  --------  0\n",
            "0  --------  0\n",
            "1  --------  1\n",
            "0  --------  1\n",
            "1  --------  1\n",
            "1  --------  0\n",
            "0  --------  1\n",
            "0  --------  0\n",
            "0  --------  0\n",
            "0  --------  0\n",
            "1  --------  1\n",
            "1  --------  1\n",
            "0  --------  0\n",
            "1  --------  1\n",
            "1  --------  1\n",
            "0  --------  0\n",
            "1  --------  1\n",
            "0  --------  0\n",
            "1  --------  0\n",
            "0  --------  0\n",
            "1  --------  1\n",
            "1  --------  1\n"
          ]
        }
      ],
      "source": [
        "qreg_q = QuantumRegister(2, 'q')\n",
        "creg_c = ClassicalRegister(2, 'c')\n",
        "circuit = QuantumCircuit(qreg_q, creg_c)\n",
        "\n",
        "circuit.h(qreg_q[0])\n",
        "circuit.h(qreg_q[1])\n",
        "circuit.t(qreg_q[1])\n",
        "circuit.h(qreg_q[1])\n",
        "circuit.cx(qreg_q[0], qreg_q[1])\n",
        "circuit.measure(qreg_q[0], creg_c[0])\n",
        "circuit.measure(qreg_q[1], creg_c[1])\n",
        "display(circuit.draw('mpl'))\n",
        "\n",
        "backend = Aer.get_backend('aer_simulator', shots=1024)\n",
        "#backend = FakeManilaV2()\n",
        "result = backend.run(circuit, memory=True).result()\n",
        "counts = result.get_counts()\n",
        "\n",
        "print('counts: ', counts)\n",
        "# visualizamos el histograma\n",
        "display(plot_histogram(counts))\n",
        "data = result.get_memory()\n",
        "print('data (100 resultados): ',data[:100])\n",
        "\n",
        "print('ALICE -------- BOB')\n",
        "for e in data[:100]:\n",
        "    print(e[0],' -------- ',e[1])"
      ]
    },
    {
      "cell_type": "markdown",
      "metadata": {
        "id": "ESt7y3cYPtyA"
      },
      "source": []
    }
  ],
  "metadata": {
    "colab": {
      "collapsed_sections": [
        "8LgPbTuNPtx4",
        "e-opkgrfPtx5",
        "-BU9U9XKPtx8",
        "DQtK0167Ptx-",
        "IJlxdBxwPtyA",
        "_aRSCZZiPtx-"
      ],
      "provenance": []
    },
    "kernelspec": {
      "display_name": "Python 3 (ipykernel)",
      "language": "python",
      "name": "python3"
    },
    "language_info": {
      "codemirror_mode": {
        "name": "ipython",
        "version": 3
      },
      "file_extension": ".py",
      "mimetype": "text/x-python",
      "name": "python",
      "nbconvert_exporter": "python",
      "pygments_lexer": "ipython3",
      "version": "3.10.13"
    }
  },
  "nbformat": 4,
  "nbformat_minor": 0
}
