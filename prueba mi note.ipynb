{
  "cells": [
    {
      "cell_type": "markdown",
      "metadata": {
        "id": "N24Pg-fufQWt"
      },
      "source": [
        "**INTRODUCCION A LA PROGRAMACION CUANTICA**\n",
        "-------------------------------------------------------\n",
        "Prof: Carmen Pellicer Lostao</br>\n",
        "[Linkedin](https://www.linkedin.com/in/cpellicerlostao/)</br>\n",
        "[email](cpellicerlostao@gmail.com)"
      ]
    },
    {
      "cell_type": "markdown",
      "metadata": {
        "id": "U-ck7CTKyeZF"
      },
      "source": [
        "## Entorno de Programación\n",
        "\n",
        "En este notebook vemos como podemos instalar las librerias de qiskit en un entorno distinto de IBM Quantum."
      ]
    },
    {
      "cell_type": "code",
      "execution_count": 1,
      "metadata": {
        "id": "cC06EWgK9iEl"
      },
      "outputs": [
        {
          "name": "stdout",
          "output_type": "stream",
          "text": [
            "Collecting qiskit>=1\n",
            "  Downloading qiskit-1.0.2-cp38-abi3-manylinux_2_17_x86_64.manylinux2014_x86_64.whl.metadata (12 kB)\n",
            "Collecting rustworkx>=0.14.0 (from qiskit>=1)\n",
            "  Downloading rustworkx-0.14.2-cp310-cp310-manylinux_2_17_x86_64.manylinux2014_x86_64.whl.metadata (10.0 kB)\n",
            "Requirement already satisfied: numpy<2,>=1.17 in /home/codespace/.local/lib/python3.10/site-packages (from qiskit>=1) (1.26.4)\n",
            "Requirement already satisfied: scipy>=1.5 in /home/codespace/.local/lib/python3.10/site-packages (from qiskit>=1) (1.13.0)\n",
            "Requirement already satisfied: sympy>=1.3 in /home/codespace/.local/lib/python3.10/site-packages (from qiskit>=1) (1.12)\n",
            "Collecting dill>=0.3 (from qiskit>=1)\n",
            "  Downloading dill-0.3.8-py3-none-any.whl.metadata (10 kB)\n",
            "Requirement already satisfied: python-dateutil>=2.8.0 in /home/codespace/.local/lib/python3.10/site-packages (from qiskit>=1) (2.9.0.post0)\n",
            "Collecting stevedore>=3.0.0 (from qiskit>=1)\n",
            "  Downloading stevedore-5.2.0-py3-none-any.whl.metadata (2.3 kB)\n",
            "Requirement already satisfied: typing-extensions in /home/codespace/.local/lib/python3.10/site-packages (from qiskit>=1) (4.10.0)\n",
            "Collecting symengine>=0.11 (from qiskit>=1)\n",
            "  Downloading symengine-0.11.0-cp310-cp310-manylinux_2_12_x86_64.manylinux2010_x86_64.whl.metadata (1.2 kB)\n",
            "Requirement already satisfied: six>=1.5 in /home/codespace/.local/lib/python3.10/site-packages (from python-dateutil>=2.8.0->qiskit>=1) (1.16.0)\n",
            "Collecting pbr!=2.1.0,>=2.0.0 (from stevedore>=3.0.0->qiskit>=1)\n",
            "  Downloading pbr-6.0.0-py2.py3-none-any.whl.metadata (1.3 kB)\n",
            "Requirement already satisfied: mpmath>=0.19 in /home/codespace/.local/lib/python3.10/site-packages (from sympy>=1.3->qiskit>=1) (1.3.0)\n",
            "Downloading qiskit-1.0.2-cp38-abi3-manylinux_2_17_x86_64.manylinux2014_x86_64.whl (5.6 MB)\n",
            "\u001b[2K   \u001b[90m━━━━━━━━━━━━━━━━━━━━━━━━━━━━━━━━━━━━━━━━\u001b[0m \u001b[32m5.6/5.6 MB\u001b[0m \u001b[31m48.8 MB/s\u001b[0m eta \u001b[36m0:00:00\u001b[0m:00:01\u001b[0m00:01\u001b[0m\n",
            "\u001b[?25hDownloading dill-0.3.8-py3-none-any.whl (116 kB)\n",
            "\u001b[2K   \u001b[90m━━━━━━━━━━━━━━━━━━━━━━━━━━━━━━━━━━━━━━━━\u001b[0m \u001b[32m116.3/116.3 kB\u001b[0m \u001b[31m3.5 MB/s\u001b[0m eta \u001b[36m0:00:00\u001b[0m\n",
            "\u001b[?25hDownloading rustworkx-0.14.2-cp310-cp310-manylinux_2_17_x86_64.manylinux2014_x86_64.whl (2.1 MB)\n",
            "\u001b[2K   \u001b[90m━━━━━━━━━━━━━━━━━━━━━━━━━━━━━━━━━━━━━━━━\u001b[0m \u001b[32m2.1/2.1 MB\u001b[0m \u001b[31m25.1 MB/s\u001b[0m eta \u001b[36m0:00:00\u001b[0m00:01\u001b[0m\n",
            "\u001b[?25hDownloading stevedore-5.2.0-py3-none-any.whl (49 kB)\n",
            "\u001b[2K   \u001b[90m━━━━━━━━━━━━━━━━━━━━━━━━━━━━━━━━━━━━━━━━\u001b[0m \u001b[32m49.7/49.7 kB\u001b[0m \u001b[31m1.3 MB/s\u001b[0m eta \u001b[36m0:00:00\u001b[0m\n",
            "\u001b[?25hDownloading symengine-0.11.0-cp310-cp310-manylinux_2_12_x86_64.manylinux2010_x86_64.whl (39.4 MB)\n",
            "\u001b[2K   \u001b[90m━━━━━━━━━━━━━━━━━━━━━━━━━━━━━━━━━━━━━━━━\u001b[0m \u001b[32m39.4/39.4 MB\u001b[0m \u001b[31m25.3 MB/s\u001b[0m eta \u001b[36m0:00:00\u001b[0m:00:01\u001b[0m00:01\u001b[0m\n",
            "\u001b[?25hDownloading pbr-6.0.0-py2.py3-none-any.whl (107 kB)\n",
            "\u001b[2K   \u001b[90m━━━━━━━━━━━━━━━━━━━━━━━━━━━━━━━━━━━━━━━━\u001b[0m \u001b[32m107.5/107.5 kB\u001b[0m \u001b[31m3.1 MB/s\u001b[0m eta \u001b[36m0:00:00\u001b[0m\n",
            "\u001b[?25hInstalling collected packages: symengine, rustworkx, pbr, dill, stevedore, qiskit\n",
            "Successfully installed dill-0.3.8 pbr-6.0.0 qiskit-1.0.2 rustworkx-0.14.2 stevedore-5.2.0 symengine-0.11.0\n",
            "Note: you may need to restart the kernel to use updated packages.\n",
            "Collecting qiskit-ibm-runtime\n",
            "  Downloading qiskit_ibm_runtime-0.22.0-py3-none-any.whl.metadata (19 kB)\n",
            "Requirement already satisfied: requests>=2.19 in /home/codespace/.local/lib/python3.10/site-packages (from qiskit-ibm-runtime) (2.31.0)\n",
            "Collecting requests-ntlm>=1.1.0 (from qiskit-ibm-runtime)\n",
            "  Downloading requests_ntlm-1.2.0-py3-none-any.whl.metadata (2.4 kB)\n",
            "Requirement already satisfied: numpy>=1.13 in /home/codespace/.local/lib/python3.10/site-packages (from qiskit-ibm-runtime) (1.26.4)\n",
            "Requirement already satisfied: urllib3>=1.21.1 in /usr/local/python/3.10.13/lib/python3.10/site-packages (from qiskit-ibm-runtime) (2.0.7)\n",
            "Requirement already satisfied: python-dateutil>=2.8.0 in /home/codespace/.local/lib/python3.10/site-packages (from qiskit-ibm-runtime) (2.9.0.post0)\n",
            "Requirement already satisfied: websocket-client>=1.5.1 in /home/codespace/.local/lib/python3.10/site-packages (from qiskit-ibm-runtime) (1.7.0)\n",
            "Collecting ibm-platform-services>=0.22.6 (from qiskit-ibm-runtime)\n",
            "  Downloading ibm-platform-services-0.53.2.tar.gz (318 kB)\n",
            "\u001b[2K     \u001b[90m━━━━━━━━━━━━━━━━━━━━━━━━━━━━━━━━━━━━━━━\u001b[0m \u001b[32m318.0/318.0 kB\u001b[0m \u001b[31m8.2 MB/s\u001b[0m eta \u001b[36m0:00:00\u001b[0m00:01\u001b[0m\n",
            "\u001b[?25h  Installing build dependencies ... \u001b[?25ldone\n",
            "\u001b[?25h  Getting requirements to build wheel ... \u001b[?25ldone\n",
            "\u001b[?25h  Installing backend dependencies ... \u001b[?25ldone\n",
            "\u001b[?25h  Preparing metadata (pyproject.toml) ... \u001b[?25ldone\n",
            "\u001b[?25hCollecting pydantic (from qiskit-ibm-runtime)\n",
            "  Downloading pydantic-2.7.0-py3-none-any.whl.metadata (103 kB)\n",
            "\u001b[2K     \u001b[90m━━━━━━━━━━━━━━━━━━━━━━━━━━━━━━━━━━━━━━━\u001b[0m \u001b[32m103.4/103.4 kB\u001b[0m \u001b[31m2.2 MB/s\u001b[0m eta \u001b[36m0:00:00\u001b[0m00:01\u001b[0m\n",
            "\u001b[?25hRequirement already satisfied: qiskit>=1.0.0 in /usr/local/python/3.10.13/lib/python3.10/site-packages (from qiskit-ibm-runtime) (1.0.2)\n",
            "Collecting ibm-cloud-sdk-core<4.0.0,>=3.19.2 (from ibm-platform-services>=0.22.6->qiskit-ibm-runtime)\n",
            "  Downloading ibm-cloud-sdk-core-3.19.2.tar.gz (61 kB)\n",
            "\u001b[2K     \u001b[90m━━━━━━━━━━━━━━━━━━━━━━━━━━━━━━━━━━━━━━━━\u001b[0m \u001b[32m62.0/62.0 kB\u001b[0m \u001b[31m1.8 MB/s\u001b[0m eta \u001b[36m0:00:00\u001b[0m\n",
            "\u001b[?25h  Installing build dependencies ... \u001b[?25ldone\n",
            "\u001b[?25h  Getting requirements to build wheel ... \u001b[?25ldone\n",
            "\u001b[?25h  Installing backend dependencies ... \u001b[?25ldone\n",
            "\u001b[?25h  Preparing metadata (pyproject.toml) ... \u001b[?25ldone\n",
            "\u001b[?25hRequirement already satisfied: six>=1.5 in /home/codespace/.local/lib/python3.10/site-packages (from python-dateutil>=2.8.0->qiskit-ibm-runtime) (1.16.0)\n",
            "Requirement already satisfied: rustworkx>=0.14.0 in /usr/local/python/3.10.13/lib/python3.10/site-packages (from qiskit>=1.0.0->qiskit-ibm-runtime) (0.14.2)\n",
            "Requirement already satisfied: scipy>=1.5 in /home/codespace/.local/lib/python3.10/site-packages (from qiskit>=1.0.0->qiskit-ibm-runtime) (1.13.0)\n",
            "Requirement already satisfied: sympy>=1.3 in /home/codespace/.local/lib/python3.10/site-packages (from qiskit>=1.0.0->qiskit-ibm-runtime) (1.12)\n",
            "Requirement already satisfied: dill>=0.3 in /usr/local/python/3.10.13/lib/python3.10/site-packages (from qiskit>=1.0.0->qiskit-ibm-runtime) (0.3.8)\n",
            "Requirement already satisfied: stevedore>=3.0.0 in /usr/local/python/3.10.13/lib/python3.10/site-packages (from qiskit>=1.0.0->qiskit-ibm-runtime) (5.2.0)\n",
            "Requirement already satisfied: typing-extensions in /home/codespace/.local/lib/python3.10/site-packages (from qiskit>=1.0.0->qiskit-ibm-runtime) (4.10.0)\n",
            "Requirement already satisfied: symengine>=0.11 in /usr/local/python/3.10.13/lib/python3.10/site-packages (from qiskit>=1.0.0->qiskit-ibm-runtime) (0.11.0)\n",
            "Requirement already satisfied: charset-normalizer<4,>=2 in /home/codespace/.local/lib/python3.10/site-packages (from requests>=2.19->qiskit-ibm-runtime) (3.3.2)\n",
            "Requirement already satisfied: idna<4,>=2.5 in /home/codespace/.local/lib/python3.10/site-packages (from requests>=2.19->qiskit-ibm-runtime) (3.6)\n",
            "Requirement already satisfied: certifi>=2017.4.17 in /home/codespace/.local/lib/python3.10/site-packages (from requests>=2.19->qiskit-ibm-runtime) (2024.2.2)\n",
            "Collecting cryptography>=1.3 (from requests-ntlm>=1.1.0->qiskit-ibm-runtime)\n",
            "  Using cached cryptography-42.0.5-cp39-abi3-manylinux_2_28_x86_64.whl.metadata (5.3 kB)\n",
            "Collecting pyspnego>=0.1.6 (from requests-ntlm>=1.1.0->qiskit-ibm-runtime)\n",
            "  Downloading pyspnego-0.10.2-py3-none-any.whl.metadata (5.4 kB)\n",
            "Collecting annotated-types>=0.4.0 (from pydantic->qiskit-ibm-runtime)\n",
            "  Downloading annotated_types-0.6.0-py3-none-any.whl.metadata (12 kB)\n",
            "Collecting pydantic-core==2.18.1 (from pydantic->qiskit-ibm-runtime)\n",
            "  Downloading pydantic_core-2.18.1-cp310-cp310-manylinux_2_17_x86_64.manylinux2014_x86_64.whl.metadata (6.5 kB)\n",
            "Requirement already satisfied: cffi>=1.12 in /home/codespace/.local/lib/python3.10/site-packages (from cryptography>=1.3->requests-ntlm>=1.1.0->qiskit-ibm-runtime) (1.16.0)\n",
            "Collecting urllib3>=1.21.1 (from qiskit-ibm-runtime)\n",
            "  Downloading urllib3-2.2.1-py3-none-any.whl.metadata (6.4 kB)\n",
            "Collecting PyJWT<3.0.0,>=2.8.0 (from ibm-cloud-sdk-core<4.0.0,>=3.19.2->ibm-platform-services>=0.22.6->qiskit-ibm-runtime)\n",
            "  Downloading PyJWT-2.8.0-py3-none-any.whl.metadata (4.2 kB)\n",
            "Requirement already satisfied: pbr!=2.1.0,>=2.0.0 in /usr/local/python/3.10.13/lib/python3.10/site-packages (from stevedore>=3.0.0->qiskit>=1.0.0->qiskit-ibm-runtime) (6.0.0)\n",
            "Requirement already satisfied: mpmath>=0.19 in /home/codespace/.local/lib/python3.10/site-packages (from sympy>=1.3->qiskit>=1.0.0->qiskit-ibm-runtime) (1.3.0)\n",
            "Requirement already satisfied: pycparser in /home/codespace/.local/lib/python3.10/site-packages (from cffi>=1.12->cryptography>=1.3->requests-ntlm>=1.1.0->qiskit-ibm-runtime) (2.22)\n",
            "Downloading qiskit_ibm_runtime-0.22.0-py3-none-any.whl (3.0 MB)\n",
            "\u001b[2K   \u001b[90m━━━━━━━━━━━━━━━━━━━━━━━━━━━━━━━━━━━━━━━━\u001b[0m \u001b[32m3.0/3.0 MB\u001b[0m \u001b[31m40.6 MB/s\u001b[0m eta \u001b[36m0:00:00\u001b[0m:00:01\u001b[0m\n",
            "\u001b[?25hDownloading requests_ntlm-1.2.0-py3-none-any.whl (6.0 kB)\n",
            "Downloading pydantic-2.7.0-py3-none-any.whl (407 kB)\n",
            "\u001b[2K   \u001b[90m━━━━━━━━━━━━━━━━━━━━━━━━━━━━━━━━━━━━━━━━\u001b[0m \u001b[32m407.9/407.9 kB\u001b[0m \u001b[31m9.6 MB/s\u001b[0m eta \u001b[36m0:00:00\u001b[0m:00:01\u001b[0m\n",
            "\u001b[?25hDownloading pydantic_core-2.18.1-cp310-cp310-manylinux_2_17_x86_64.manylinux2014_x86_64.whl (2.1 MB)\n",
            "\u001b[2K   \u001b[90m━━━━━━━━━━━━━━━━━━━━━━━━━━━━━━━━━━━━━━━━\u001b[0m \u001b[32m2.1/2.1 MB\u001b[0m \u001b[31m36.6 MB/s\u001b[0m eta \u001b[36m0:00:00\u001b[0m:00:01\u001b[0m\n",
            "\u001b[?25hDownloading annotated_types-0.6.0-py3-none-any.whl (12 kB)\n",
            "Using cached cryptography-42.0.5-cp39-abi3-manylinux_2_28_x86_64.whl (4.6 MB)\n",
            "Downloading urllib3-2.2.1-py3-none-any.whl (121 kB)\n",
            "\u001b[2K   \u001b[90m━━━━━━━━━━━━━━━━━━━━━━━━━━━━━━━━━━━━━━━━\u001b[0m \u001b[32m121.1/121.1 kB\u001b[0m \u001b[31m3.7 MB/s\u001b[0m eta \u001b[36m0:00:00\u001b[0m\n",
            "\u001b[?25hDownloading pyspnego-0.10.2-py3-none-any.whl (129 kB)\n",
            "\u001b[2K   \u001b[90m━━━━━━━━━━━━━━━━━━━━━━━━━━━━━━━━━━━━━━━━\u001b[0m \u001b[32m129.9/129.9 kB\u001b[0m \u001b[31m4.1 MB/s\u001b[0m eta \u001b[36m0:00:00\u001b[0m\n",
            "\u001b[?25hDownloading PyJWT-2.8.0-py3-none-any.whl (22 kB)\n",
            "Building wheels for collected packages: ibm-platform-services, ibm-cloud-sdk-core\n",
            "  Building wheel for ibm-platform-services (pyproject.toml) ... \u001b[?25ldone\n",
            "\u001b[?25h  Created wheel for ibm-platform-services: filename=ibm_platform_services-0.53.2-py3-none-any.whl size=333970 sha256=f17c8b1e5133b0504467e129779d62ec7b019c5e3830a9a273e41643e13d8da7\n",
            "  Stored in directory: /home/codespace/.cache/pip/wheels/9b/ad/11/c59945ca0d5d34da7156493772d4ee722f6454fd56269b49bb\n",
            "  Building wheel for ibm-cloud-sdk-core (pyproject.toml) ... \u001b[?25ldone\n",
            "\u001b[?25h  Created wheel for ibm-cloud-sdk-core: filename=ibm_cloud_sdk_core-3.19.2-py3-none-any.whl size=98827 sha256=89e34a8c29a0f05a5589587a1e59bcc62e87b1091171c12e17e08f5f8998ecfc\n",
            "  Stored in directory: /home/codespace/.cache/pip/wheels/90/05/db/f544eb28b85089bf6cf29cb9e30f56b471bf59d56a46c92519\n",
            "Successfully built ibm-platform-services ibm-cloud-sdk-core\n",
            "Installing collected packages: urllib3, PyJWT, pydantic-core, annotated-types, pydantic, cryptography, pyspnego, ibm-cloud-sdk-core, requests-ntlm, ibm-platform-services, qiskit-ibm-runtime\n",
            "  Attempting uninstall: urllib3\n",
            "    Found existing installation: urllib3 2.0.7\n",
            "    Uninstalling urllib3-2.0.7:\n",
            "      Successfully uninstalled urllib3-2.0.7\n",
            "Successfully installed PyJWT-2.8.0 annotated-types-0.6.0 cryptography-42.0.5 ibm-cloud-sdk-core-3.19.2 ibm-platform-services-0.53.2 pydantic-2.7.0 pydantic-core-2.18.1 pyspnego-0.10.2 qiskit-ibm-runtime-0.22.0 requests-ntlm-1.2.0 urllib3-2.2.1\n",
            "Note: you may need to restart the kernel to use updated packages.\n",
            "Requirement already satisfied: qiskit[visualization] in /usr/local/python/3.10.13/lib/python3.10/site-packages (1.0.2)\n",
            "Requirement already satisfied: rustworkx>=0.14.0 in /usr/local/python/3.10.13/lib/python3.10/site-packages (from qiskit[visualization]) (0.14.2)\n",
            "Requirement already satisfied: numpy<2,>=1.17 in /home/codespace/.local/lib/python3.10/site-packages (from qiskit[visualization]) (1.26.4)\n",
            "Requirement already satisfied: scipy>=1.5 in /home/codespace/.local/lib/python3.10/site-packages (from qiskit[visualization]) (1.13.0)\n",
            "Requirement already satisfied: sympy>=1.3 in /home/codespace/.local/lib/python3.10/site-packages (from qiskit[visualization]) (1.12)\n",
            "Requirement already satisfied: dill>=0.3 in /usr/local/python/3.10.13/lib/python3.10/site-packages (from qiskit[visualization]) (0.3.8)\n",
            "Requirement already satisfied: python-dateutil>=2.8.0 in /home/codespace/.local/lib/python3.10/site-packages (from qiskit[visualization]) (2.9.0.post0)\n",
            "Requirement already satisfied: stevedore>=3.0.0 in /usr/local/python/3.10.13/lib/python3.10/site-packages (from qiskit[visualization]) (5.2.0)\n",
            "Requirement already satisfied: typing-extensions in /home/codespace/.local/lib/python3.10/site-packages (from qiskit[visualization]) (4.10.0)\n",
            "Requirement already satisfied: symengine>=0.11 in /usr/local/python/3.10.13/lib/python3.10/site-packages (from qiskit[visualization]) (0.11.0)\n",
            "Requirement already satisfied: matplotlib>=3.3 in /home/codespace/.local/lib/python3.10/site-packages (from qiskit[visualization]) (3.8.3)\n",
            "Collecting pydot (from qiskit[visualization])\n",
            "  Downloading pydot-2.0.0-py3-none-any.whl.metadata (9.6 kB)\n",
            "Requirement already satisfied: Pillow>=4.2.1 in /home/codespace/.local/lib/python3.10/site-packages (from qiskit[visualization]) (10.3.0)\n",
            "Collecting pylatexenc>=1.4 (from qiskit[visualization])\n",
            "  Downloading pylatexenc-2.10.tar.gz (162 kB)\n",
            "\u001b[2K     \u001b[90m━━━━━━━━━━━━━━━━━━━━━━━━━━━━━━━━━━━━━━━\u001b[0m \u001b[32m162.6/162.6 kB\u001b[0m \u001b[31m4.7 MB/s\u001b[0m eta \u001b[36m0:00:00\u001b[0m\n",
            "\u001b[?25h  Installing build dependencies ... \u001b[?25ldone\n",
            "\u001b[?25h  Getting requirements to build wheel ... \u001b[?25ldone\n",
            "\u001b[?25h  Installing backend dependencies ... \u001b[?25ldone\n",
            "\u001b[?25h  Preparing metadata (pyproject.toml) ... \u001b[?25ldone\n",
            "\u001b[?25hRequirement already satisfied: seaborn>=0.9.0 in /home/codespace/.local/lib/python3.10/site-packages (from qiskit[visualization]) (0.13.2)\n",
            "Requirement already satisfied: contourpy>=1.0.1 in /home/codespace/.local/lib/python3.10/site-packages (from matplotlib>=3.3->qiskit[visualization]) (1.2.1)\n",
            "Requirement already satisfied: cycler>=0.10 in /home/codespace/.local/lib/python3.10/site-packages (from matplotlib>=3.3->qiskit[visualization]) (0.12.1)\n",
            "Requirement already satisfied: fonttools>=4.22.0 in /home/codespace/.local/lib/python3.10/site-packages (from matplotlib>=3.3->qiskit[visualization]) (4.50.0)\n",
            "Requirement already satisfied: kiwisolver>=1.3.1 in /home/codespace/.local/lib/python3.10/site-packages (from matplotlib>=3.3->qiskit[visualization]) (1.4.5)\n",
            "Requirement already satisfied: packaging>=20.0 in /home/codespace/.local/lib/python3.10/site-packages (from matplotlib>=3.3->qiskit[visualization]) (24.0)\n",
            "Requirement already satisfied: pyparsing>=2.3.1 in /home/codespace/.local/lib/python3.10/site-packages (from matplotlib>=3.3->qiskit[visualization]) (3.1.2)\n",
            "Requirement already satisfied: six>=1.5 in /home/codespace/.local/lib/python3.10/site-packages (from python-dateutil>=2.8.0->qiskit[visualization]) (1.16.0)\n",
            "Requirement already satisfied: pandas>=1.2 in /home/codespace/.local/lib/python3.10/site-packages (from seaborn>=0.9.0->qiskit[visualization]) (2.2.1)\n",
            "Requirement already satisfied: pbr!=2.1.0,>=2.0.0 in /usr/local/python/3.10.13/lib/python3.10/site-packages (from stevedore>=3.0.0->qiskit[visualization]) (6.0.0)\n",
            "Requirement already satisfied: mpmath>=0.19 in /home/codespace/.local/lib/python3.10/site-packages (from sympy>=1.3->qiskit[visualization]) (1.3.0)\n",
            "Requirement already satisfied: pytz>=2020.1 in /home/codespace/.local/lib/python3.10/site-packages (from pandas>=1.2->seaborn>=0.9.0->qiskit[visualization]) (2024.1)\n",
            "Requirement already satisfied: tzdata>=2022.7 in /home/codespace/.local/lib/python3.10/site-packages (from pandas>=1.2->seaborn>=0.9.0->qiskit[visualization]) (2024.1)\n",
            "Downloading pydot-2.0.0-py3-none-any.whl (22 kB)\n",
            "Building wheels for collected packages: pylatexenc\n",
            "  Building wheel for pylatexenc (pyproject.toml) ... \u001b[?25ldone\n",
            "\u001b[?25h  Created wheel for pylatexenc: filename=pylatexenc-2.10-py3-none-any.whl size=136816 sha256=bf20dc0b81ea0e386f9ca1a4551bf1395eb07aeed77fa2780aecd8d5f7c05146\n",
            "  Stored in directory: /home/codespace/.cache/pip/wheels/d3/31/8b/e09b0386afd80cfc556c00408c9aeea5c35c4d484a9c762fd5\n",
            "Successfully built pylatexenc\n",
            "Installing collected packages: pylatexenc, pydot\n",
            "Successfully installed pydot-2.0.0 pylatexenc-2.10\n",
            "Note: you may need to restart the kernel to use updated packages.\n",
            "Requirement already satisfied: pylatexenc in /usr/local/python/3.10.13/lib/python3.10/site-packages (2.10)\n",
            "Note: you may need to restart the kernel to use updated packages.\n",
            "Collecting qiskit-aer\n",
            "  Downloading qiskit_aer-0.14.0.1-cp310-cp310-manylinux_2_17_x86_64.manylinux2014_x86_64.whl.metadata (6.1 kB)\n",
            "Requirement already satisfied: qiskit>=0.45.0 in /usr/local/python/3.10.13/lib/python3.10/site-packages (from qiskit-aer) (1.0.2)\n",
            "Requirement already satisfied: numpy>=1.16.3 in /home/codespace/.local/lib/python3.10/site-packages (from qiskit-aer) (1.26.4)\n",
            "Requirement already satisfied: scipy>=1.0 in /home/codespace/.local/lib/python3.10/site-packages (from qiskit-aer) (1.13.0)\n",
            "Requirement already satisfied: psutil>=5 in /home/codespace/.local/lib/python3.10/site-packages (from qiskit-aer) (5.9.8)\n",
            "Requirement already satisfied: rustworkx>=0.14.0 in /usr/local/python/3.10.13/lib/python3.10/site-packages (from qiskit>=0.45.0->qiskit-aer) (0.14.2)\n",
            "Requirement already satisfied: sympy>=1.3 in /home/codespace/.local/lib/python3.10/site-packages (from qiskit>=0.45.0->qiskit-aer) (1.12)\n",
            "Requirement already satisfied: dill>=0.3 in /usr/local/python/3.10.13/lib/python3.10/site-packages (from qiskit>=0.45.0->qiskit-aer) (0.3.8)\n",
            "Requirement already satisfied: python-dateutil>=2.8.0 in /home/codespace/.local/lib/python3.10/site-packages (from qiskit>=0.45.0->qiskit-aer) (2.9.0.post0)\n",
            "Requirement already satisfied: stevedore>=3.0.0 in /usr/local/python/3.10.13/lib/python3.10/site-packages (from qiskit>=0.45.0->qiskit-aer) (5.2.0)\n",
            "Requirement already satisfied: typing-extensions in /home/codespace/.local/lib/python3.10/site-packages (from qiskit>=0.45.0->qiskit-aer) (4.10.0)\n",
            "Requirement already satisfied: symengine>=0.11 in /usr/local/python/3.10.13/lib/python3.10/site-packages (from qiskit>=0.45.0->qiskit-aer) (0.11.0)\n",
            "Requirement already satisfied: six>=1.5 in /home/codespace/.local/lib/python3.10/site-packages (from python-dateutil>=2.8.0->qiskit>=0.45.0->qiskit-aer) (1.16.0)\n",
            "Requirement already satisfied: pbr!=2.1.0,>=2.0.0 in /usr/local/python/3.10.13/lib/python3.10/site-packages (from stevedore>=3.0.0->qiskit>=0.45.0->qiskit-aer) (6.0.0)\n",
            "Requirement already satisfied: mpmath>=0.19 in /home/codespace/.local/lib/python3.10/site-packages (from sympy>=1.3->qiskit>=0.45.0->qiskit-aer) (1.3.0)\n",
            "Downloading qiskit_aer-0.14.0.1-cp310-cp310-manylinux_2_17_x86_64.manylinux2014_x86_64.whl (12.4 MB)\n",
            "\u001b[2K   \u001b[90m━━━━━━━━━━━━━━━━━━━━━━━━━━━━━━━━━━━━━━━━\u001b[0m \u001b[32m12.4/12.4 MB\u001b[0m \u001b[31m10.4 MB/s\u001b[0m eta \u001b[36m0:00:00\u001b[0m00:01\u001b[0m00:01\u001b[0m\n",
            "\u001b[?25hInstalling collected packages: qiskit-aer\n",
            "Successfully installed qiskit-aer-0.14.0.1\n",
            "Note: you may need to restart the kernel to use updated packages.\n"
          ]
        }
      ],
      "source": [
        "%pip install 'qiskit>=1'\n",
        "%pip install qiskit-ibm-runtime\n",
        "%pip install qiskit[visualization]\n",
        "%pip install pylatexenc  #sometimes requieres a retart of the env\n",
        "%pip install qiskit-aer  #AER simulator, to run circuits without runtime"
      ]
    },
    {
      "cell_type": "code",
      "execution_count": 2,
      "metadata": {
        "id": "lETpObYUCPi7"
      },
      "outputs": [],
      "source": [
        "import qiskit"
      ]
    },
    {
      "cell_type": "markdown",
      "metadata": {
        "id": "8LgPbTuNPtx4"
      },
      "source": [
        "## Covenciones y cuestiones a tener en cuenta"
      ]
    },
    {
      "cell_type": "markdown",
      "metadata": {
        "id": "zCdPaVKqPtx4"
      },
      "source": [
        "- Los Qubits siempre se inicializan en el estado |0>\n",
        "\n",
        "- Los Qubits y los bits se numeran con enteros de 0 a n-1 como es habitual en programacion\n",
        "\n",
        "- Qiskit numera los bits y los qubits de derecha a izquierda ($q_{n-1},..,q_0$), es la notacion Big-endian. En los libros de texto, la notacion de Dirac y otros entornos de computacion cuántica es al reves.\n",
        "\n",
        "- Un simulador cuántico es un ordenador clásico (CPU) que calcula cual seria el resultado de operar en una QPU ideal, teórica, sin ruidos ni imperfecciones. Los simuladores funcionan bien con un numero bajo de qubits (~30 qubits) y son una herramienta indispensable en el diseño de circuitos cuánticos.\n",
        "\n",
        "- Los angulos son positivos cuando se miden en el sentido inverso a las agujas del reloj\n",
        "\n",
        "- El eje Z se toma como la base estandar computacional y base de medida. No es un eje especial, simplemente una convención."
      ]
    },
    {
      "cell_type": "markdown",
      "metadata": {
        "id": "e-opkgrfPtx5"
      },
      "source": [
        "## Circuitos cuánticos"
      ]
    },
    {
      "cell_type": "markdown",
      "metadata": {
        "id": "3Mrxi_A-Ptx5"
      },
      "source": [
        "Comenzamos explorando algunas funcionalidades de Quiskit. Crearemos nuestro primer Circuito Cuántico."
      ]
    },
    {
      "cell_type": "markdown",
      "metadata": {
        "id": "7TQBQ4knPtx6"
      },
      "source": [
        "Utilizamos el IBM Quantum Composer para crear un circuito cuantico que cree el estado de Bell $\\frac{1}{\\sqrt(2)}(|00>+|11>)$\n",
        "\n",
        "Primero creamos dos objetos **QuantumRegister** y **ClassicalRegister** del número de qubits que necesitemos. Después creamos un objeto QuantumCircuit con los dos registros anteriores, añadimos las puertas de medida y podemos ejecutarlo en el simulador.\n",
        "\n",
        "Copiamos el codigo y vamos a ejecutarlo en Qiskit:"
      ]
    },
    {
      "cell_type": "code",
      "execution_count": 3,
      "metadata": {
        "id": "Rm4-oNrfPtx6"
      },
      "outputs": [],
      "source": [
        "from qiskit import QuantumRegister, ClassicalRegister\n",
        "\n",
        "qreg= QuantumRegister(2)        #create a quantum register with 2 qubits\n",
        "creg= ClassicalRegister(2)      #create a classical register with 2 classical bits"
      ]
    },
    {
      "cell_type": "code",
      "execution_count": 4,
      "metadata": {
        "id": "Q1bpWRz7Ptx7",
        "outputId": "f105b14d-17d6-4354-d13b-c0430166555b"
      },
      "outputs": [
        {
          "data": {
            "text/plain": [
              "<qiskit.circuit.instructionset.InstructionSet at 0x7f03a55a4310>"
            ]
          },
          "execution_count": 4,
          "metadata": {},
          "output_type": "execute_result"
        }
      ],
      "source": [
        "from qiskit import QuantumCircuit\n",
        "\n",
        "circuit = QuantumCircuit(qreg,creg)  #creates a QuantumCircuit object that operates on a QuantumRegister ans a ClassicalRegister\n",
        "circuit.h(0)                         #applies Hadamard gate to qubit 0\n",
        "circuit.cx(0, 1)                     #applies a cnot gate with control qubit 0 and target qubit 1\n",
        "circuit.measure(qreg,creg)           #measure all qubits in qreg and put results in creg"
      ]
    },
    {
      "cell_type": "markdown",
      "metadata": {
        "id": "e9_i5Vk7Ptx8"
      },
      "source": [
        "Revisamos la documentacion de la clase [Cirquit](https://docs.quantum.ibm.com/api/qiskit/circuit) de qiskit y podemos dibujar el circuito:"
      ]
    },
    {
      "cell_type": "code",
      "execution_count": 5,
      "metadata": {
        "id": "dbgGJFqKPtx8",
        "outputId": "9fbfb175-ee6f-4827-b379-2c79bbcf51a9"
      },
      "outputs": [
        {
          "data": {
            "image/png": "[encoded data removed]",
            "text/plain": [
              "<Figure size 525.227x284.278 with 1 Axes>"
            ]
          },
          "execution_count": 5,
          "metadata": {},
          "output_type": "execute_result"
        }
      ],
      "source": [
        "circuit.draw('mpl',initial_state=True)"
      ]
    },
    {
      "cell_type": "markdown",
      "metadata": {
        "id": "YfHHwH2mPtx8"
      },
      "source": [
        "Opciones de formato para visualizar el circuito ('text','latex','mpl','latex','latex_source'). Ver la documentacion del metodo [.draw](https://docs.quantum.ibm.com/api/qiskit/qiskit.circuit.QuantumCircuit#draw)"
      ]
    },
    {
      "cell_type": "markdown",
      "metadata": {
        "id": "-BU9U9XKPtx8"
      },
      "source": [
        "## Simulación y Medida"
      ]
    },
    {
      "cell_type": "markdown",
      "metadata": {
        "id": "AFYzyw4oPtx9"
      },
      "source": [
        "Ahora ejecutamos el circuito en el simulador Aer y visualizamos los resultados en un histograma."
      ]
    },
    {
      "cell_type": "code",
      "execution_count": 8,
      "metadata": {
        "id": "unBNsDMvPtx9",
        "outputId": "69cf57cb-fdd9-470c-84b3-75ba3134a054"
      },
      "outputs": [
        {
          "name": "stdout",
          "output_type": "stream",
          "text": [
            "{'11': 508, '00': 516}\n"
          ]
        }
      ],
      "source": [
        "from qiskit_aer import Aer\n",
        "\n",
        "# this is the AER simulator we'll use\n",
        "backend = Aer.get_backend('aer_simulator', shots=1024)\n",
        "# we run the experiment and get the result from that experiment  -> memory=True to get results for each shot\n",
        "result = backend.run(circuit, memory=True).result()\n",
        "#in the results, we get a dictionary containing the number of times (counts)\n",
        "counts = result.get_counts()\n",
        "print(counts)"
      ]
    },
    {
      "cell_type": "markdown",
      "metadata": {
        "id": "A0dK6ZlKPtx9"
      },
      "source": [
        "Podemos utilizar simuladores de dispositivos reales que IBM ha creado a partir de la calibracion de hardware cuantico real."
      ]
    },
    {
      "cell_type": "code",
      "execution_count": 9,
      "metadata": {
        "id": "3LxyZlWbPtx9",
        "outputId": "2b326c19-4814-4ba5-b8c2-13e473772145"
      },
      "outputs": [
        {
          "name": "stdout",
          "output_type": "stream",
          "text": [
            "{'11': 371, '00': 486, '10': 128, '01': 39}\n"
          ]
        }
      ],
      "source": [
        "from qiskit_ibm_runtime.fake_provider import FakeManilaV2\n",
        "\n",
        "# Get a fake backend from the fake provider\n",
        "backend = FakeManilaV2()\n",
        "result = backend.run(circuit, memory=True).result()\n",
        "#in the results, we get a dictionary containing the number of times (counts)\n",
        "counts = result.get_counts()\n",
        "print(counts)"
      ]
    },
    {
      "cell_type": "markdown",
      "metadata": {
        "id": "DQtK0167Ptx-"
      },
      "source": [
        "## Visualizacion de resultados"
      ]
    },
    {
      "cell_type": "markdown",
      "metadata": {
        "id": "RfKsDD8ePtx-"
      },
      "source": [
        "Muestra los primeros 5 resultados de las medidas"
      ]
    },
    {
      "cell_type": "code",
      "execution_count": 11,
      "metadata": {
        "id": "lbkE2uO3Ptx-",
        "outputId": "388e80e6-0418-4a87-a69a-ccb48fec5e41"
      },
      "outputs": [
        {
          "data": {
            "text/plain": [
              "['01', '10', '00', '11', '00']"
            ]
          },
          "execution_count": 11,
          "metadata": {},
          "output_type": "execute_result"
        }
      ],
      "source": [
        "#Vemos los 5 primeros resultados de la simulacion\n",
        "data = result.get_memory()\n",
        "data[:5]"
      ]
    },
    {
      "cell_type": "code",
      "execution_count": 13,
      "metadata": {},
      "outputs": [
        {
          "name": "stdout",
          "output_type": "stream",
          "text": [
            "ALICE ------ BOB\n",
            "    0 ------ 1\n",
            "    1 ------ 0\n",
            "    0 ------ 0\n",
            "    1 ------ 1\n",
            "    0 ------ 0\n",
            "    1 ------ 1\n",
            "    0 ------ 0\n",
            "    1 ------ 1\n",
            "    0 ------ 0\n",
            "    0 ------ 0\n"
          ]
        }
      ],
      "source": [
        "#Vemos los 10 primeros resultados de la simulacion\n",
        "data = result.get_memory()\n",
        "print('ALICE ------ BOB')\n",
        "for e in data[:10]:\n",
        "   print('   ',e[0],'------',e[1]) "
      ]
    },
    {
      "cell_type": "markdown",
      "metadata": {
        "id": "zfIB0-ogPtx-"
      },
      "source": [
        "Utiliza la funcion [`plot_histogram`](https://docs.quantum.ibm.com/api/qiskit/qiskit.visualization.plot_histogram) para mostrar los resultados obtenidos en todas las medidas"
      ]
    },
    {
      "cell_type": "code",
      "execution_count": 14,
      "metadata": {
        "id": "5axO_vp7Ptx-",
        "outputId": "37645964-59bb-4d63-f062-a295f7b17a35"
      },
      "outputs": [
        {
          "data": {
            "image/png": "[encoded data removed]",
            "text/plain": [
              "<Figure size 700x500 with 1 Axes>"
            ]
          },
          "execution_count": 14,
          "metadata": {},
          "output_type": "execute_result"
        }
      ],
      "source": [
        "from qiskit.visualization import plot_histogram\n",
        "plot_histogram(counts)"
      ]
    },
    {
      "cell_type": "markdown",
      "metadata": {
        "id": "IJlxdBxwPtyA"
      },
      "source": [
        "## Ejecucion en HW real"
      ]
    },
    {
      "cell_type": "code",
      "execution_count": 16,
      "metadata": {
        "id": "YNiwQUM6PtyA",
        "outputId": "8356e618-56b5-4149-b52a-ce544ad39e38"
      },
      "outputs": [
        {
          "data": {
            "text/plain": [
              "[<IBMBackend('simulator_extended_stabilizer')>,\n",
              " <IBMBackend('simulator_mps')>,\n",
              " <IBMBackend('simulator_statevector')>,\n",
              " <IBMBackend('simulator_stabilizer')>,\n",
              " <IBMBackend('ibm_brisbane')>,\n",
              " <IBMBackend('ibm_kyoto')>,\n",
              " <IBMBackend('ibm_osaka')>,\n",
              " <IBMBackend('ibmq_qasm_simulator')>]"
            ]
          },
          "execution_count": 16,
          "metadata": {},
          "output_type": "execute_result"
        }
      ],
      "source": [
        "from qiskit_ibm_runtime import QiskitRuntimeService\n",
        "mytoken='8943d6f045c30426fc044d87c204e76ef038a3a4fd4b0fdf5bdabcf1b8463027e139b4386a4bf5ddafd89468ce034255a198058443f698073707c48db3fb3921'\n",
        "\n",
        "service = QiskitRuntimeService(channel=\"ibm_quantum\", token=mytoken)\n",
        "service.backends()"
      ]
    },
    {
      "cell_type": "code",
      "execution_count": 17,
      "metadata": {
        "id": "mR94WY1VPtyA",
        "outputId": "3560466e-93aa-4ef0-9aad-98e4f02825e8"
      },
      "outputs": [
        {
          "name": "stdout",
          "output_type": "stream",
          "text": [
            "Name: ibm_kyoto\n",
            "Version: 2\n",
            "No. of qubits: 127\n",
            "\n"
          ]
        },
        {
          "data": {
            "text/plain": [
              "{'_options': Options(shots=4000, memory=False, meas_level=<MeasLevel.CLASSIFIED: 2>, meas_return=<MeasReturnType.AVERAGE: 'avg'>, memory_slots=None, memory_slot_size=100, rep_time=None, rep_delay=None, init_qubits=True, use_measure_esp=None, noise_model=None, seed_simulator=None),\n",
              " '_provider': None,\n",
              " 'name': 'ibm_kyoto',\n",
              " 'description': None,\n",
              " 'online_date': datetime.datetime(2023, 9, 12, 4, 0, tzinfo=tzutc()),\n",
              " 'backend_version': '1.2.38',\n",
              " '_coupling_map': None,\n",
              " '_instance': 'ibm-q/open/main',\n",
              " '_service': <QiskitRuntimeService>,\n",
              " '_api_client': <qiskit_ibm_runtime.api.clients.runtime.RuntimeClient at 0x7f03a3864250>,\n",
              " '_configuration': <qiskit.providers.models.backendconfiguration.PulseBackendConfiguration at 0x7f038df3cb50>,\n",
              " '_properties': <qiskit.providers.models.backendproperties.BackendProperties at 0x7f03d4386440>,\n",
              " '_defaults': <qiskit.providers.models.pulsedefaults.PulseDefaults at 0x7f038d16e2c0>,\n",
              " '_target': <qiskit.transpiler.target.Target at 0x7f038d1e0040>,\n",
              " '_max_circuits': 300,\n",
              " '_session': None}"
            ]
          },
          "execution_count": 17,
          "metadata": {},
          "output_type": "execute_result"
        }
      ],
      "source": [
        "#buscar el menos ocupado\n",
        "backend = service.least_busy(operational=True, simulator=False, min_num_qubits=127)\n",
        "print(\n",
        "    f\"Name: {backend.name}\\n\"\n",
        "    f\"Version: {backend.version}\\n\"\n",
        "    f\"No. of qubits: {backend.num_qubits}\\n\"\n",
        ")\n",
        "#ver todas sus propiedades\n",
        "backend.__dict__"
      ]
    },
    {
      "cell_type": "code",
      "execution_count": 19,
      "metadata": {
        "id": "GgYJIcylPtyB",
        "outputId": "ead1ec0e-bdec-4778-d83c-93795aaf1336"
      },
      "outputs": [
        {
          "data": {
            "image/png": "[encoded data removed]",
            "text/plain": [
              "<Figure size 454.517x284.278 with 1 Axes>"
            ]
          },
          "metadata": {},
          "output_type": "display_data"
        }
      ],
      "source": [
        "qreg_q = QuantumRegister(2, 'q')\n",
        "creg_c = ClassicalRegister(2, 'c')\n",
        "circuit = QuantumCircuit(qreg_q, creg_c)\n",
        "\n",
        "circuit.h(qreg_q[0])\n",
        "circuit.cx(qreg_q[0], qreg_q[1])\n",
        "circuit.measure(qreg_q[0], creg_c[0])\n",
        "circuit.measure(qreg_q[1], creg_c[1])\n",
        "display(circuit.draw('mpl'))\n",
        "\n"
      ]
    },
    {
      "cell_type": "markdown",
      "metadata": {
        "id": "fKiBX36QPtyB"
      },
      "source": [
        "https://docs.quantum.ibm.com/run/monitor-job"
      ]
    },
    {
      "cell_type": "code",
      "execution_count": 14,
      "metadata": {
        "id": "9KNVacRKPtyB",
        "outputId": "2dc8cae4-bb5c-401a-a309-879ff0130685"
      },
      "outputs": [
        {
          "name": "stdout",
          "output_type": "stream",
          "text": [
            "<IBMBackend('ibmq_qasm_simulator')>\n"
          ]
        }
      ],
      "source": [
        "backend=service.backend(\"ibmq_qasm_simulator\")\n",
        "print(backend)"
      ]
    },
    {
      "cell_type": "code",
      "execution_count": 21,
      "metadata": {
        "id": "WkFj9gBAPtyC"
      },
      "outputs": [],
      "source": [
        "#from qiskit_ibm_runtime import QiskitRuntimeService, SamplerV2 as Sampler\n",
        "from qiskit_ibm_runtime import QiskitRuntimeService, Session, Options, Sampler, Estimator\n",
        "from qiskit.transpiler.preset_passmanagers import generate_preset_pass_manager\n",
        "\n",
        "pm = generate_preset_pass_manager(backend=backend, optimization_level=1)\n",
        "isa_circuit = pm.run(circuit)\n",
        "\n",
        "sampler = Sampler(backend)\n",
        "job = sampler.run([isa_circuit], shots=4096)"
      ]
    },
    {
      "cell_type": "code",
      "execution_count": 22,
      "metadata": {
        "id": "9Ao6EERmPtyJ",
        "outputId": "dd14f67f-b323-43ca-b5dd-b1f38441ce9b"
      },
      "outputs": [
        {
          "data": {
            "text/plain": [
              "'crejr4r3c7k00085v400'"
            ]
          },
          "execution_count": 22,
          "metadata": {},
          "output_type": "execute_result"
        }
      ],
      "source": [
        "job.job_id()"
      ]
    },
    {
      "cell_type": "code",
      "execution_count": 23,
      "metadata": {
        "id": "k1zjGKsuPtyJ",
        "outputId": "cd83a6a5-8991-48e4-fccc-5f13c66efc39"
      },
      "outputs": [
        {
          "data": {
            "text/plain": [
              "<JobStatus.QUEUED: 'job is queued'>"
            ]
          },
          "execution_count": 23,
          "metadata": {},
          "output_type": "execute_result"
        }
      ],
      "source": [
        "job.status()"
      ]
    },
    {
      "cell_type": "code",
      "execution_count": 25,
      "metadata": {
        "id": "Ct5FY6rgPtyJ"
      },
      "outputs": [],
      "source": [
        "#obtener un job uno que ya se ejecuto\n",
        "job = service.job('cqbhhc5tzeqg0082y5k0')   #qasm sim\n"
      ]
    },
    {
      "cell_type": "code",
      "execution_count": 26,
      "metadata": {
        "id": "iO7kYEnRPtyJ",
        "outputId": "203250e6-8c20-4cdf-950c-131c156fd67a"
      },
      "outputs": [
        {
          "data": {
            "text/plain": [
              "[{0: 0.476369742775411, 1: 0.000245220167836, 2: 0.000782809031405, 3: 0.522602228025347}]"
            ]
          },
          "execution_count": 26,
          "metadata": {},
          "output_type": "execute_result"
        }
      ],
      "source": [
        "result=job.result()\n",
        "result.quasi_dists"
      ]
    },
    {
      "cell_type": "code",
      "execution_count": 27,
      "metadata": {
        "id": "sCgZOQgGPtyJ",
        "outputId": "aa7c1bd3-8745-4b06-9af8-814e58b3d190"
      },
      "outputs": [
        {
          "name": "stdout",
          "output_type": "stream",
          "text": [
            " > Quasi-probability distribution: [{0: 0.476369742775411, 1: 0.000245220167836, 2: 0.000782809031405, 3: 0.522602228025347}]\n",
            " > Metadata: [{'shots': 1024, 'circuit_metadata': {}, 'readout_mitigation_overhead': 1.2349240606535337, 'readout_mitigation_time': 0.10465454868972301, 'warning': 'Circuits that do not match the target hardware definition will no longer be supported after March 1, 2024. See the transpilation documentation (https://docs.quantum.ibm.com/transpile) for instructions to transform circuits and the primitive examples (https://docs.quantum.ibm.com/run/primitives-examples) to see this coupled with operator transformations.'}]\n"
          ]
        }
      ],
      "source": [
        "result=job.result()\n",
        "print(f\" > Quasi-probability distribution: {result.quasi_dists}\")\n",
        "print(f\" > Metadata: {result.metadata}\")"
      ]
    },
    {
      "cell_type": "markdown",
      "metadata": {
        "id": "_aRSCZZiPtx-"
      },
      "source": [
        "## Aplicaciones: Q-RBG de dos secuencias binarias condicionadas"
      ]
    },
    {
      "cell_type": "markdown",
      "metadata": {},
      "source": [
        "Quantum Random Bit Generators"
      ]
    },
    {
      "cell_type": "markdown",
      "metadata": {
        "id": "Sw3N2leWPtx_"
      },
      "source": [
        "### Primer generador"
      ]
    },
    {
      "cell_type": "markdown",
      "metadata": {
        "id": "X6GTAUFhPtx_"
      },
      "source": [
        "Creamos un generador de numeros aleatorios que produzca dos secuencias aleatorias examtamente iguales para dos personas Alice y Bob, con igual probabilidad de obtener 0 o 1 (al 50%)\n",
        "\n",
        "```\n",
        "ALICE -------- BOB\n",
        "0  --------  0\n",
        "0  --------  0\n",
        "1  --------  1\n",
        "1  --------  1\n",
        "0  --------  0\n",
        "1  --------  1\n",
        "1  --------  1\n",
        ".\n",
        ".\n",
        ".\n",
        "```\n",
        "\n",
        "Para ello creamos un circuito cuantico de dos qbits que produzca bits clasicos en cada medida para Alice y Bob.\n",
        "\n",
        "Ejecutamos el circuito para obtener:\n",
        "\n",
        "* los primeros 100 bits de ambas personas\n",
        "* el histograma de bits medidos en la ejecucion que demuestra que se generan 0 y 1 para Alice y Bob entrelazados y al 50%\n"
      ]
    },
    {
      "cell_type": "code",
      "execution_count": 21,
      "metadata": {
        "id": "4pBkM8LEPtx_",
        "outputId": "1fc5abae-7b6b-4aa5-d3a5-cb490b3ed21c"
      },
      "outputs": [
        {
          "data": {
            "image/png": "[encoded data removed]",
            "text/plain": [
              "<Figure size 454.517x284.278 with 1 Axes>"
            ]
          },
          "metadata": {},
          "output_type": "display_data"
        },
        {
          "name": "stdout",
          "output_type": "stream",
          "text": [
            "counts:  {'00': 505, '11': 519}\n"
          ]
        },
        {
          "data": {
            "image/png": "[encoded data removed]",
            "text/plain": [
              "<Figure size 700x500 with 1 Axes>"
            ]
          },
          "metadata": {},
          "output_type": "display_data"
        },
        {
          "name": "stdout",
          "output_type": "stream",
          "text": [
            "data (100 resultados):  ['11', '00', '00', '11', '11', '00', '11', '11', '11', '11', '11', '00', '11', '00', '11', '11', '00', '11', '00', '00', '00', '11', '00', '11', '11', '11', '00', '00', '00', '11', '00', '11', '11', '00', '00', '00', '00', '11', '11', '11', '11', '11', '00', '11', '00', '00', '11', '00', '11', '11', '00', '00', '11', '11', '00', '11', '11', '00', '00', '00', '11', '11', '00', '00', '11', '11', '00', '00', '11', '11', '11', '00', '11', '11', '11', '11', '11', '11', '11', '00', '00', '00', '00', '00', '11', '00', '11', '11', '00', '00', '00', '00', '11', '00', '00', '11', '00', '11', '11', '00']\n",
            "ALICE -------- BOB\n",
            "1  --------  1\n",
            "0  --------  0\n",
            "0  --------  0\n",
            "1  --------  1\n",
            "1  --------  1\n",
            "0  --------  0\n",
            "1  --------  1\n",
            "1  --------  1\n",
            "1  --------  1\n",
            "1  --------  1\n",
            "1  --------  1\n",
            "0  --------  0\n",
            "1  --------  1\n",
            "0  --------  0\n",
            "1  --------  1\n",
            "1  --------  1\n",
            "0  --------  0\n",
            "1  --------  1\n",
            "0  --------  0\n",
            "0  --------  0\n",
            "0  --------  0\n",
            "1  --------  1\n",
            "0  --------  0\n",
            "1  --------  1\n",
            "1  --------  1\n",
            "1  --------  1\n",
            "0  --------  0\n",
            "0  --------  0\n",
            "0  --------  0\n",
            "1  --------  1\n",
            "0  --------  0\n",
            "1  --------  1\n",
            "1  --------  1\n",
            "0  --------  0\n",
            "0  --------  0\n",
            "0  --------  0\n",
            "0  --------  0\n",
            "1  --------  1\n",
            "1  --------  1\n",
            "1  --------  1\n",
            "1  --------  1\n",
            "1  --------  1\n",
            "0  --------  0\n",
            "1  --------  1\n",
            "0  --------  0\n",
            "0  --------  0\n",
            "1  --------  1\n",
            "0  --------  0\n",
            "1  --------  1\n",
            "1  --------  1\n",
            "0  --------  0\n",
            "0  --------  0\n",
            "1  --------  1\n",
            "1  --------  1\n",
            "0  --------  0\n",
            "1  --------  1\n",
            "1  --------  1\n",
            "0  --------  0\n",
            "0  --------  0\n",
            "0  --------  0\n",
            "1  --------  1\n",
            "1  --------  1\n",
            "0  --------  0\n",
            "0  --------  0\n",
            "1  --------  1\n",
            "1  --------  1\n",
            "0  --------  0\n",
            "0  --------  0\n",
            "1  --------  1\n",
            "1  --------  1\n",
            "1  --------  1\n",
            "0  --------  0\n",
            "1  --------  1\n",
            "1  --------  1\n",
            "1  --------  1\n",
            "1  --------  1\n",
            "1  --------  1\n",
            "1  --------  1\n",
            "1  --------  1\n",
            "0  --------  0\n",
            "0  --------  0\n",
            "0  --------  0\n",
            "0  --------  0\n",
            "0  --------  0\n",
            "1  --------  1\n",
            "0  --------  0\n",
            "1  --------  1\n",
            "1  --------  1\n",
            "0  --------  0\n",
            "0  --------  0\n",
            "0  --------  0\n",
            "0  --------  0\n",
            "1  --------  1\n",
            "0  --------  0\n",
            "0  --------  0\n",
            "1  --------  1\n",
            "0  --------  0\n",
            "1  --------  1\n",
            "1  --------  1\n",
            "0  --------  0\n"
          ]
        }
      ],
      "source": [
        "qreg_q = QuantumRegister(2, 'q')\n",
        "creg_c = ClassicalRegister(2, 'c')\n",
        "circuit = QuantumCircuit(qreg_q, creg_c)\n",
        "\n",
        "circuit.h(qreg_q[0])\n",
        "circuit.cx(qreg_q[0], qreg_q[1])\n",
        "circuit.measure(qreg_q[0], creg_c[0])\n",
        "circuit.measure(qreg_q[1], creg_c[1])\n",
        "display(circuit.draw('mpl'))\n",
        "\n",
        "backend = Aer.get_backend('aer_simulator', shots=1024)\n",
        "#backend = FakeManilaV2()\n",
        "result = backend.run(circuit, memory=True).result()\n",
        "counts = result.get_counts()\n",
        "\n",
        "print('counts: ', counts)\n",
        "# visualizamos el histograma\n",
        "display(plot_histogram(counts))\n",
        "data = result.get_memory()\n",
        "print('data (100 resultados): ',data[:100])\n",
        "\n",
        "print('ALICE -------- BOB')\n",
        "for e in data[:100]:\n",
        "    print(e[0],' -------- ',e[1])"
      ]
    },
    {
      "cell_type": "markdown",
      "metadata": {
        "id": "jEbFFpZMPtx_"
      },
      "source": [
        "### Segundo generador"
      ]
    },
    {
      "cell_type": "markdown",
      "metadata": {
        "id": "Kv3mcJuQPtx_"
      },
      "source": [
        "Creamos un generador de numeros aleatorios que produzca dos secuencias aleatorias examtamente para dos personas Alice y Bob, con probabilidades diferentes y entrelazadas:\n",
        "- Alice obtine una secuencia con igual probabilidad de obtener 0 o 1 (al 50%)\n",
        "- si Alice obtiene un 0, Bob obtiene una probabilidad de 0 y 1 al 85% y 15% respectivamente.\n",
        "- si Alice ontiene un 1, Bob obtiene una probabilidad de 1 y 0 al 85% y 15% respectivamente.\n",
        "\n",
        "\n",
        "```\n",
        "ALICE -------- BOB\n",
        "0  --------  0\n",
        "0  --------  0\n",
        "1  --------  0\n",
        "1  --------  1\n",
        "1  --------  0\n",
        "0  --------  1\n",
        "1  --------  1\n",
        "1  --------  1\n",
        "1  --------  1\n",
        "0  --------  0\n",
        "1  --------  1\n",
        "0  --------  0\n",
        "1  --------  1\n",
        "1  --------  1\n",
        "1  --------  1\n",
        ".\n",
        ".\n",
        ".\n",
        "```\n",
        "\n",
        "Para ello creamos un circuito cuantico de dos qbits que produzca bits clasicos en cada medida para Alice y Bob.\n",
        "\n",
        "Ejecutamos el circuito en un simulador cuantico y obten:\n",
        "\n",
        "* los primeros 100 bits de ambas personas\n",
        "* el histograma de bits medidos en la ejecucion"
      ]
    },
    {
      "cell_type": "code",
      "execution_count": 22,
      "metadata": {
        "id": "uSlUjvOWPtx_",
        "outputId": "2486bf01-d332-424d-b781-435bd5368b74"
      },
      "outputs": [
        {
          "data": {
            "image/png": "[encoded data removed]",
            "text/plain": [
              "<Figure size 621.739x284.278 with 1 Axes>"
            ]
          },
          "metadata": {},
          "output_type": "display_data"
        },
        {
          "name": "stdout",
          "output_type": "stream",
          "text": [
            "counts:  {'01': 76, '10': 84, '00': 439, '11': 425}\n"
          ]
        },
        {
          "data": {
            "image/png": "[encoded data removed]",
            "text/plain": [
              "<Figure size 700x500 with 1 Axes>"
            ]
          },
          "metadata": {},
          "output_type": "display_data"
        },
        {
          "name": "stdout",
          "output_type": "stream",
          "text": [
            "data (100 resultados):  ['11', '00', '11', '10', '00', '00', '00', '00', '11', '01', '11', '11', '00', '11', '01', '11', '00', '01', '11', '00', '01', '00', '00', '11', '10', '00', '00', '01', '00', '00', '10', '00', '11', '00', '00', '10', '11', '11', '00', '10', '11', '00', '11', '00', '00', '00', '00', '10', '11', '00', '00', '11', '00', '10', '10', '00', '11', '00', '11', '01', '00', '11', '00', '00', '11', '11', '00', '00', '01', '00', '00', '01', '10', '10', '00', '11', '00', '00', '00', '00', '11', '01', '11', '10', '01', '00', '00', '00', '11', '11', '00', '11', '11', '00', '11', '00', '10', '00', '11', '11']\n",
            "ALICE -------- BOB\n",
            "1  --------  1\n",
            "0  --------  0\n",
            "1  --------  1\n",
            "1  --------  0\n",
            "0  --------  0\n",
            "0  --------  0\n",
            "0  --------  0\n",
            "0  --------  0\n",
            "1  --------  1\n",
            "0  --------  1\n",
            "1  --------  1\n",
            "1  --------  1\n",
            "0  --------  0\n",
            "1  --------  1\n",
            "0  --------  1\n",
            "1  --------  1\n",
            "0  --------  0\n",
            "0  --------  1\n",
            "1  --------  1\n",
            "0  --------  0\n",
            "0  --------  1\n",
            "0  --------  0\n",
            "0  --------  0\n",
            "1  --------  1\n",
            "1  --------  0\n",
            "0  --------  0\n",
            "0  --------  0\n",
            "0  --------  1\n",
            "0  --------  0\n",
            "0  --------  0\n",
            "1  --------  0\n",
            "0  --------  0\n",
            "1  --------  1\n",
            "0  --------  0\n",
            "0  --------  0\n",
            "1  --------  0\n",
            "1  --------  1\n",
            "1  --------  1\n",
            "0  --------  0\n",
            "1  --------  0\n",
            "1  --------  1\n",
            "0  --------  0\n",
            "1  --------  1\n",
            "0  --------  0\n",
            "0  --------  0\n",
            "0  --------  0\n",
            "0  --------  0\n",
            "1  --------  0\n",
            "1  --------  1\n",
            "0  --------  0\n",
            "0  --------  0\n",
            "1  --------  1\n",
            "0  --------  0\n",
            "1  --------  0\n",
            "1  --------  0\n",
            "0  --------  0\n",
            "1  --------  1\n",
            "0  --------  0\n",
            "1  --------  1\n",
            "0  --------  1\n",
            "0  --------  0\n",
            "1  --------  1\n",
            "0  --------  0\n",
            "0  --------  0\n",
            "1  --------  1\n",
            "1  --------  1\n",
            "0  --------  0\n",
            "0  --------  0\n",
            "0  --------  1\n",
            "0  --------  0\n",
            "0  --------  0\n",
            "0  --------  1\n",
            "1  --------  0\n",
            "1  --------  0\n",
            "0  --------  0\n",
            "1  --------  1\n",
            "0  --------  0\n",
            "0  --------  0\n",
            "0  --------  0\n",
            "0  --------  0\n",
            "1  --------  1\n",
            "0  --------  1\n",
            "1  --------  1\n",
            "1  --------  0\n",
            "0  --------  1\n",
            "0  --------  0\n",
            "0  --------  0\n",
            "0  --------  0\n",
            "1  --------  1\n",
            "1  --------  1\n",
            "0  --------  0\n",
            "1  --------  1\n",
            "1  --------  1\n",
            "0  --------  0\n",
            "1  --------  1\n",
            "0  --------  0\n",
            "1  --------  0\n",
            "0  --------  0\n",
            "1  --------  1\n",
            "1  --------  1\n"
          ]
        }
      ],
      "source": [
        "qreg_q = QuantumRegister(2, 'q')\n",
        "creg_c = ClassicalRegister(2, 'c')\n",
        "circuit = QuantumCircuit(qreg_q, creg_c)\n",
        "\n",
        "circuit.h(qreg_q[0])\n",
        "circuit.h(qreg_q[1])\n",
        "circuit.t(qreg_q[1])\n",
        "circuit.h(qreg_q[1])\n",
        "circuit.cx(qreg_q[0], qreg_q[1])\n",
        "circuit.measure(qreg_q[0], creg_c[0])\n",
        "circuit.measure(qreg_q[1], creg_c[1])\n",
        "display(circuit.draw('mpl'))\n",
        "\n",
        "backend = Aer.get_backend('aer_simulator', shots=1024)\n",
        "#backend = FakeManilaV2()\n",
        "result = backend.run(circuit, memory=True).result()\n",
        "counts = result.get_counts()\n",
        "\n",
        "print('counts: ', counts)\n",
        "# visualizamos el histograma\n",
        "display(plot_histogram(counts))\n",
        "data = result.get_memory()\n",
        "print('data (100 resultados): ',data[:100])\n",
        "\n",
        "print('ALICE -------- BOB')\n",
        "for e in data[:100]:\n",
        "    print(e[0],' -------- ',e[1])"
      ]
    },
    {
      "cell_type": "markdown",
      "metadata": {
        "id": "ESt7y3cYPtyA"
      },
      "source": []
    }
  ],
  "metadata": {
    "colab": {
      "collapsed_sections": [
        "8LgPbTuNPtx4",
        "e-opkgrfPtx5",
        "-BU9U9XKPtx8",
        "DQtK0167Ptx-",
        "IJlxdBxwPtyA",
        "_aRSCZZiPtx-"
      ],
      "provenance": []
    },
    "kernelspec": {
      "display_name": "Python 3 (ipykernel)",
      "language": "python",
      "name": "python3"
    },
    "language_info": {
      "codemirror_mode": {
        "name": "ipython",
        "version": 3
      },
      "file_extension": ".py",
      "mimetype": "text/x-python",
      "name": "python",
      "nbconvert_exporter": "python",
      "pygments_lexer": "ipython3",
      "version": "3.10.13"
    }
  },
  "nbformat": 4,
  "nbformat_minor": 0
}
